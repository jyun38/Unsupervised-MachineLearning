{
 "cells": [
  {
   "cell_type": "code",
   "execution_count": 3,
   "metadata": {
    "collapsed": true
   },
   "outputs": [],
   "source": [
    "import pandas as pd \n",
    "import numpy as np \n",
    "import math\n",
    "from kmodes.kmodes import KModes"
   ]
  },
  {
   "cell_type": "code",
   "execution_count": 4,
   "metadata": {
    "collapsed": true
   },
   "outputs": [],
   "source": [
    "%config IPCompleter.greedy=True "
   ]
  },
  {
   "cell_type": "code",
   "execution_count": 5,
   "metadata": {
    "collapsed": true
   },
   "outputs": [],
   "source": [
    "data = pd.read_csv(\"dataset.csv\", error_bad_lines = False)"
   ]
  },
  {
   "cell_type": "code",
   "execution_count": 6,
   "metadata": {
    "collapsed": false
   },
   "outputs": [
    {
     "data": {
      "text/html": [
       "<div>\n",
       "<table border=\"1\" class=\"dataframe\">\n",
       "  <thead>\n",
       "    <tr style=\"text-align: right;\">\n",
       "      <th></th>\n",
       "      <th>Unnamed: 0</th>\n",
       "      <th>Unnamed: 0.1</th>\n",
       "      <th>ID</th>\n",
       "      <th>Date</th>\n",
       "      <th>IUCR</th>\n",
       "      <th>Primary Type</th>\n",
       "      <th>Description</th>\n",
       "      <th>Location Description</th>\n",
       "      <th>Arrest</th>\n",
       "      <th>Domestic</th>\n",
       "      <th>District</th>\n",
       "      <th>FBI Code</th>\n",
       "      <th>Year</th>\n",
       "      <th>Latitude</th>\n",
       "      <th>Longitude</th>\n",
       "    </tr>\n",
       "  </thead>\n",
       "  <tbody>\n",
       "    <tr>\n",
       "      <th>0</th>\n",
       "      <td>0</td>\n",
       "      <td>0</td>\n",
       "      <td>4786321</td>\n",
       "      <td>2004-01-01 00:01:00</td>\n",
       "      <td>0840</td>\n",
       "      <td>THEFT</td>\n",
       "      <td>FINANCIAL ID THEFT: OVER $300</td>\n",
       "      <td>RESIDENCE</td>\n",
       "      <td>False</td>\n",
       "      <td>False</td>\n",
       "      <td>4.0</td>\n",
       "      <td>06</td>\n",
       "      <td>2004.0</td>\n",
       "      <td>41.734106</td>\n",
       "      <td>-87.563621</td>\n",
       "    </tr>\n",
       "    <tr>\n",
       "      <th>1</th>\n",
       "      <td>1</td>\n",
       "      <td>1</td>\n",
       "      <td>4676906</td>\n",
       "      <td>2003-03-01 00:00:00</td>\n",
       "      <td>2825</td>\n",
       "      <td>OTHER OFFENSE</td>\n",
       "      <td>HARASSMENT BY TELEPHONE</td>\n",
       "      <td>RESIDENCE</td>\n",
       "      <td>False</td>\n",
       "      <td>True</td>\n",
       "      <td>9.0</td>\n",
       "      <td>26</td>\n",
       "      <td>2003.0</td>\n",
       "      <td>41.817229</td>\n",
       "      <td>-87.637328</td>\n",
       "    </tr>\n",
       "    <tr>\n",
       "      <th>2</th>\n",
       "      <td>2</td>\n",
       "      <td>2</td>\n",
       "      <td>4789749</td>\n",
       "      <td>2004-06-20 11:00:00</td>\n",
       "      <td>1752</td>\n",
       "      <td>OFFENSE INVOLVING CHILDREN</td>\n",
       "      <td>AGG CRIM SEX ABUSE FAM MEMBER</td>\n",
       "      <td>RESIDENCE</td>\n",
       "      <td>False</td>\n",
       "      <td>False</td>\n",
       "      <td>14.0</td>\n",
       "      <td>20</td>\n",
       "      <td>2004.0</td>\n",
       "      <td>41.915620</td>\n",
       "      <td>-87.694019</td>\n",
       "    </tr>\n",
       "    <tr>\n",
       "      <th>3</th>\n",
       "      <td>3</td>\n",
       "      <td>3</td>\n",
       "      <td>4789765</td>\n",
       "      <td>2004-12-30 20:00:00</td>\n",
       "      <td>0840</td>\n",
       "      <td>THEFT</td>\n",
       "      <td>FINANCIAL ID THEFT: OVER $300</td>\n",
       "      <td>OTHER</td>\n",
       "      <td>False</td>\n",
       "      <td>False</td>\n",
       "      <td>25.0</td>\n",
       "      <td>06</td>\n",
       "      <td>2004.0</td>\n",
       "      <td>41.919054</td>\n",
       "      <td>-87.752178</td>\n",
       "    </tr>\n",
       "    <tr>\n",
       "      <th>4</th>\n",
       "      <td>4</td>\n",
       "      <td>4</td>\n",
       "      <td>4677901</td>\n",
       "      <td>2003-05-01 01:00:00</td>\n",
       "      <td>0841</td>\n",
       "      <td>THEFT</td>\n",
       "      <td>FINANCIAL ID THEFT:$300 &amp;UNDER</td>\n",
       "      <td>RESIDENCE</td>\n",
       "      <td>False</td>\n",
       "      <td>False</td>\n",
       "      <td>22.0</td>\n",
       "      <td>06</td>\n",
       "      <td>2003.0</td>\n",
       "      <td>41.691785</td>\n",
       "      <td>-87.635116</td>\n",
       "    </tr>\n",
       "  </tbody>\n",
       "</table>\n",
       "</div>"
      ],
      "text/plain": [
       "   Unnamed: 0  Unnamed: 0.1       ID                 Date  IUCR  \\\n",
       "0           0             0  4786321  2004-01-01 00:01:00  0840   \n",
       "1           1             1  4676906  2003-03-01 00:00:00  2825   \n",
       "2           2             2  4789749  2004-06-20 11:00:00  1752   \n",
       "3           3             3  4789765  2004-12-30 20:00:00  0840   \n",
       "4           4             4  4677901  2003-05-01 01:00:00  0841   \n",
       "\n",
       "                 Primary Type                     Description  \\\n",
       "0                       THEFT   FINANCIAL ID THEFT: OVER $300   \n",
       "1               OTHER OFFENSE         HARASSMENT BY TELEPHONE   \n",
       "2  OFFENSE INVOLVING CHILDREN   AGG CRIM SEX ABUSE FAM MEMBER   \n",
       "3                       THEFT   FINANCIAL ID THEFT: OVER $300   \n",
       "4                       THEFT  FINANCIAL ID THEFT:$300 &UNDER   \n",
       "\n",
       "  Location Description Arrest Domestic  District FBI Code    Year   Latitude  \\\n",
       "0            RESIDENCE  False    False       4.0       06  2004.0  41.734106   \n",
       "1            RESIDENCE  False     True       9.0       26  2003.0  41.817229   \n",
       "2            RESIDENCE  False    False      14.0       20  2004.0  41.915620   \n",
       "3                OTHER  False    False      25.0       06  2004.0  41.919054   \n",
       "4            RESIDENCE  False    False      22.0       06  2003.0  41.691785   \n",
       "\n",
       "   Longitude  \n",
       "0 -87.563621  \n",
       "1 -87.637328  \n",
       "2 -87.694019  \n",
       "3 -87.752178  \n",
       "4 -87.635116  "
      ]
     },
     "execution_count": 6,
     "metadata": {},
     "output_type": "execute_result"
    }
   ],
   "source": [
    "data.head()"
   ]
  },
  {
   "cell_type": "code",
   "execution_count": 7,
   "metadata": {
    "collapsed": false
   },
   "outputs": [
    {
     "data": {
      "text/plain": [
       "2008.0    852053\n",
       "2006.0    794684\n",
       "2009.0    783900\n",
       "2010.0    700691\n",
       "2007.0    621848\n",
       "2001.0    568517\n",
       "2002.0    490879\n",
       "2003.0    475913\n",
       "2005.0    455811\n",
       "2004.0    388205\n",
       "2011.0    352066\n",
       "2012.0    335670\n",
       "2013.0    306703\n",
       "2014.0    274527\n",
       "2016.0    265462\n",
       "2015.0    262995\n",
       "2017.0     11357\n",
       "Name: Year, dtype: int64"
      ]
     },
     "execution_count": 7,
     "metadata": {},
     "output_type": "execute_result"
    }
   ],
   "source": [
    "data[\"Year\"].value_counts()"
   ]
  },
  {
   "cell_type": "code",
   "execution_count": 8,
   "metadata": {
    "collapsed": true
   },
   "outputs": [],
   "source": [
    "data['Date'] = pd.to_datetime(data['Date'])"
   ]
  },
  {
   "cell_type": "code",
   "execution_count": 9,
   "metadata": {
    "collapsed": true
   },
   "outputs": [],
   "source": [
    "data_dropped = data.drop(['Unnamed: 0', 'Unnamed: 0.1', 'Latitude', 'Longitude', 'ID', 'FBI Code'], axis=1)"
   ]
  },
  {
   "cell_type": "code",
   "execution_count": 10,
   "metadata": {
    "collapsed": true
   },
   "outputs": [],
   "source": [
    "data_addMonth = data_dropped.assign(Month = data_dropped[\"Date\"].dt.month)"
   ]
  },
  {
   "cell_type": "code",
   "execution_count": 11,
   "metadata": {
    "collapsed": true
   },
   "outputs": [],
   "source": [
    "data_addDay = data_addMonth.assign(Day = data_addMonth[\"Date\"].dt.day)"
   ]
  },
  {
   "cell_type": "code",
   "execution_count": 12,
   "metadata": {
    "collapsed": true
   },
   "outputs": [],
   "source": [
    "data_addHour = data_addDay.assign(Hour = data_addDay[\"Date\"].dt.hour)"
   ]
  },
  {
   "cell_type": "code",
   "execution_count": 13,
   "metadata": {
    "collapsed": true
   },
   "outputs": [],
   "source": [
    "data_dropDate = data_addHour.drop(['Date'], axis=1)"
   ]
  },
  {
   "cell_type": "code",
   "execution_count": 14,
   "metadata": {
    "collapsed": true
   },
   "outputs": [],
   "source": [
    "finalDf = data_dropDate"
   ]
  },
  {
   "cell_type": "code",
   "execution_count": 15,
   "metadata": {
    "collapsed": false
   },
   "outputs": [
    {
     "data": {
      "text/html": [
       "<div>\n",
       "<table border=\"1\" class=\"dataframe\">\n",
       "  <thead>\n",
       "    <tr style=\"text-align: right;\">\n",
       "      <th></th>\n",
       "      <th>IUCR</th>\n",
       "      <th>Primary Type</th>\n",
       "      <th>Description</th>\n",
       "      <th>Location Description</th>\n",
       "      <th>Arrest</th>\n",
       "      <th>Domestic</th>\n",
       "      <th>District</th>\n",
       "      <th>Year</th>\n",
       "      <th>Month</th>\n",
       "      <th>Day</th>\n",
       "      <th>Hour</th>\n",
       "    </tr>\n",
       "  </thead>\n",
       "  <tbody>\n",
       "    <tr>\n",
       "      <th>0</th>\n",
       "      <td>0840</td>\n",
       "      <td>THEFT</td>\n",
       "      <td>FINANCIAL ID THEFT: OVER $300</td>\n",
       "      <td>RESIDENCE</td>\n",
       "      <td>False</td>\n",
       "      <td>False</td>\n",
       "      <td>4.0</td>\n",
       "      <td>2004.0</td>\n",
       "      <td>1</td>\n",
       "      <td>1</td>\n",
       "      <td>0</td>\n",
       "    </tr>\n",
       "    <tr>\n",
       "      <th>1</th>\n",
       "      <td>2825</td>\n",
       "      <td>OTHER OFFENSE</td>\n",
       "      <td>HARASSMENT BY TELEPHONE</td>\n",
       "      <td>RESIDENCE</td>\n",
       "      <td>False</td>\n",
       "      <td>True</td>\n",
       "      <td>9.0</td>\n",
       "      <td>2003.0</td>\n",
       "      <td>3</td>\n",
       "      <td>1</td>\n",
       "      <td>0</td>\n",
       "    </tr>\n",
       "    <tr>\n",
       "      <th>2</th>\n",
       "      <td>1752</td>\n",
       "      <td>OFFENSE INVOLVING CHILDREN</td>\n",
       "      <td>AGG CRIM SEX ABUSE FAM MEMBER</td>\n",
       "      <td>RESIDENCE</td>\n",
       "      <td>False</td>\n",
       "      <td>False</td>\n",
       "      <td>14.0</td>\n",
       "      <td>2004.0</td>\n",
       "      <td>6</td>\n",
       "      <td>20</td>\n",
       "      <td>11</td>\n",
       "    </tr>\n",
       "    <tr>\n",
       "      <th>3</th>\n",
       "      <td>0840</td>\n",
       "      <td>THEFT</td>\n",
       "      <td>FINANCIAL ID THEFT: OVER $300</td>\n",
       "      <td>OTHER</td>\n",
       "      <td>False</td>\n",
       "      <td>False</td>\n",
       "      <td>25.0</td>\n",
       "      <td>2004.0</td>\n",
       "      <td>12</td>\n",
       "      <td>30</td>\n",
       "      <td>20</td>\n",
       "    </tr>\n",
       "    <tr>\n",
       "      <th>4</th>\n",
       "      <td>0841</td>\n",
       "      <td>THEFT</td>\n",
       "      <td>FINANCIAL ID THEFT:$300 &amp;UNDER</td>\n",
       "      <td>RESIDENCE</td>\n",
       "      <td>False</td>\n",
       "      <td>False</td>\n",
       "      <td>22.0</td>\n",
       "      <td>2003.0</td>\n",
       "      <td>5</td>\n",
       "      <td>1</td>\n",
       "      <td>1</td>\n",
       "    </tr>\n",
       "  </tbody>\n",
       "</table>\n",
       "</div>"
      ],
      "text/plain": [
       "   IUCR                Primary Type                     Description  \\\n",
       "0  0840                       THEFT   FINANCIAL ID THEFT: OVER $300   \n",
       "1  2825               OTHER OFFENSE         HARASSMENT BY TELEPHONE   \n",
       "2  1752  OFFENSE INVOLVING CHILDREN   AGG CRIM SEX ABUSE FAM MEMBER   \n",
       "3  0840                       THEFT   FINANCIAL ID THEFT: OVER $300   \n",
       "4  0841                       THEFT  FINANCIAL ID THEFT:$300 &UNDER   \n",
       "\n",
       "  Location Description Arrest Domestic  District    Year  Month  Day  Hour  \n",
       "0            RESIDENCE  False    False       4.0  2004.0      1    1     0  \n",
       "1            RESIDENCE  False     True       9.0  2003.0      3    1     0  \n",
       "2            RESIDENCE  False    False      14.0  2004.0      6   20    11  \n",
       "3                OTHER  False    False      25.0  2004.0     12   30    20  \n",
       "4            RESIDENCE  False    False      22.0  2003.0      5    1     1  "
      ]
     },
     "execution_count": 15,
     "metadata": {},
     "output_type": "execute_result"
    }
   ],
   "source": [
    "finalDf.head()"
   ]
  },
  {
   "cell_type": "code",
   "execution_count": 16,
   "metadata": {
    "collapsed": true
   },
   "outputs": [],
   "source": [
    "myData = finalDf.to_csv('myData.csv')"
   ]
  },
  {
   "cell_type": "code",
   "execution_count": 38,
   "metadata": {
    "collapsed": true
   },
   "outputs": [],
   "source": [
    "km_5 = KModes(n_clusters=5, init = \"Huang\", n_init = 5, verbose=1)"
   ]
  },
  {
   "cell_type": "code",
   "execution_count": 39,
   "metadata": {
    "collapsed": true
   },
   "outputs": [],
   "source": [
    "km_10 = KModes(n_clusters=10, init = \"Huang\", n_init = 5, verbose=1)"
   ]
  },
  {
   "cell_type": "code",
   "execution_count": 40,
   "metadata": {
    "collapsed": true
   },
   "outputs": [],
   "source": [
    "km_25 = KModes(n_clusters=25, init = \"Huang\", n_init = 5, verbose=1)"
   ]
  },
  {
   "cell_type": "code",
   "execution_count": 17,
   "metadata": {
    "collapsed": true
   },
   "outputs": [],
   "source": [
    "def filterYear(year):\n",
    "    df = finalDf[finalDf.Year==year]\n",
    "    return df"
   ]
  },
  {
   "cell_type": "code",
   "execution_count": 148,
   "metadata": {
    "collapsed": true
   },
   "outputs": [],
   "source": [
    "def filterDistrict(district):\n",
    "    df = finalDf[finalDf.District == district]\n",
    "    return df"
   ]
  },
  {
   "cell_type": "code",
   "execution_count": 47,
   "metadata": {
    "collapsed": true
   },
   "outputs": [],
   "source": [
    "def makeClusters(year, num):\n",
    "    df = filterYear(year)\n",
    "    df = df.reset_index()\n",
    "    if(num == 5):\n",
    "        fitClusters = km_5.fit_predict(df)\n",
    "        clusterCentroidsDf = pd.DataFrame(km_5.cluster_centroids_)\n",
    "    elif(num == 10):\n",
    "        fitClusters = km_10.fit_predict(df)\n",
    "        clusterCentroidsDf = pd.DataFrame(km_10.cluster_centroids_)\n",
    "    else:\n",
    "        fitClusters = km_25.fit_predict(df)\n",
    "        clusterCentroidsDf = pd.DataFrame(km_25.cluster_centroids_)\n",
    "    clusterCentroidsDf.columns = df.columns\n",
    "    return fitClusters, clusterCentroidsDf"
   ]
  },
  {
   "cell_type": "code",
   "execution_count": 28,
   "metadata": {
    "collapsed": true
   },
   "outputs": [],
   "source": [
    "def labelsDf(year, num, clustersDf):\n",
    "    df = filterYear(year)\n",
    "    df = df.reset_index()\n",
    "    clustersDf = pd.DataFrame(clustersDf)\n",
    "    if(num == 5):\n",
    "        clustersDf.columns = ['clusters_5']\n",
    "    elif(num == 10):\n",
    "        clustersDf.columns = ['clusters_10']\n",
    "    else:\n",
    "        clustersDf.columns = ['clusters_25']\n",
    "    combinedDf = pd.concat([df, clustersDf], axis = 1)\n",
    "    return combinedDf"
   ]
  },
  {
   "cell_type": "code",
   "execution_count": 48,
   "metadata": {
    "collapsed": false,
    "scrolled": true
   },
   "outputs": [
    {
     "name": "stdout",
     "output_type": "stream",
     "text": [
      "Init: initializing centroids\n",
      "Init: initializing clusters\n",
      "Starting iterations...\n",
      "Run 1, iteration: 1/100, moves: 62300, cost: 2573770.0\n",
      "Run 1, iteration: 2/100, moves: 10878, cost: 2573770.0\n",
      "Init: initializing centroids\n",
      "Init: initializing clusters\n",
      "Starting iterations...\n",
      "Run 2, iteration: 1/100, moves: 42006, cost: 2626185.0\n",
      "Run 2, iteration: 2/100, moves: 30778, cost: 2626184.0\n",
      "Run 2, iteration: 3/100, moves: 0, cost: 2626184.0\n",
      "Init: initializing centroids\n",
      "Init: initializing clusters\n",
      "Starting iterations...\n",
      "Run 3, iteration: 1/100, moves: 61118, cost: 2681431.0\n",
      "Run 3, iteration: 2/100, moves: 0, cost: 2681431.0\n",
      "Init: initializing centroids\n",
      "Init: initializing clusters\n",
      "Starting iterations...\n",
      "Run 4, iteration: 1/100, moves: 83037, cost: 2610673.0\n",
      "Run 4, iteration: 2/100, moves: 9409, cost: 2610673.0\n",
      "Init: initializing centroids\n",
      "Init: initializing clusters\n",
      "Starting iterations...\n",
      "Run 5, iteration: 1/100, moves: 63472, cost: 2534947.0\n",
      "Run 5, iteration: 2/100, moves: 6320, cost: 2534947.0\n",
      "Best run was number 5\n"
     ]
    }
   ],
   "source": [
    "clusters2011_5 = makeClusters(2011, 5)"
   ]
  },
  {
   "cell_type": "code",
   "execution_count": 53,
   "metadata": {
    "collapsed": false
   },
   "outputs": [],
   "source": [
    "labelsDf(2011, 5, clusters2011_5[0]).to_csv(\"year2011_5clusters.csv\")"
   ]
  },
  {
   "cell_type": "code",
   "execution_count": 54,
   "metadata": {
    "collapsed": false
   },
   "outputs": [],
   "source": [
    "clusters2011_5[1].to_csv(\"year2011_5clusterCentroids.csv\")"
   ]
  },
  {
   "cell_type": "code",
   "execution_count": 55,
   "metadata": {
    "collapsed": false,
    "scrolled": true
   },
   "outputs": [
    {
     "name": "stdout",
     "output_type": "stream",
     "text": [
      "Init: initializing centroids\n",
      "Init: initializing clusters\n",
      "Starting iterations...\n",
      "Run 1, iteration: 1/100, moves: 81089, cost: 2357670.0\n",
      "Run 1, iteration: 2/100, moves: 8731, cost: 2357670.0\n",
      "Init: initializing centroids\n",
      "Init: initializing clusters\n",
      "Starting iterations...\n",
      "Run 2, iteration: 1/100, moves: 108087, cost: 2326715.0\n",
      "Run 2, iteration: 2/100, moves: 32148, cost: 2324804.0\n",
      "Run 2, iteration: 3/100, moves: 920, cost: 2324804.0\n",
      "Init: initializing centroids\n",
      "Init: initializing clusters\n",
      "Starting iterations...\n",
      "Run 3, iteration: 1/100, moves: 83884, cost: 2417159.0\n",
      "Run 3, iteration: 2/100, moves: 8077, cost: 2417159.0\n",
      "Init: initializing centroids\n",
      "Init: initializing clusters\n",
      "Starting iterations...\n",
      "Run 4, iteration: 1/100, moves: 63805, cost: 2467505.0\n",
      "Run 4, iteration: 2/100, moves: 7035, cost: 2467505.0\n",
      "Init: initializing centroids\n",
      "Init: initializing clusters\n",
      "Starting iterations...\n",
      "Run 5, iteration: 1/100, moves: 77171, cost: 2405964.0\n",
      "Run 5, iteration: 2/100, moves: 33948, cost: 2371001.0\n",
      "Run 5, iteration: 3/100, moves: 32706, cost: 2367413.0\n",
      "Run 5, iteration: 4/100, moves: 788, cost: 2367413.0\n",
      "Best run was number 2\n"
     ]
    }
   ],
   "source": [
    "clusters2011_10 = makeClusters(2011, 10)"
   ]
  },
  {
   "cell_type": "code",
   "execution_count": 64,
   "metadata": {
    "collapsed": false
   },
   "outputs": [],
   "source": [
    "labelsDf(2011, 10, clusters2011_10[0]).to_csv(\"year2011_10clusters.csv\")"
   ]
  },
  {
   "cell_type": "code",
   "execution_count": 62,
   "metadata": {
    "collapsed": false
   },
   "outputs": [],
   "source": [
    "clusters2011_10[1].to_csv(\"year2011_10clusterCentroids.csv\")"
   ]
  },
  {
   "cell_type": "code",
   "execution_count": 68,
   "metadata": {
    "collapsed": false,
    "scrolled": true
   },
   "outputs": [
    {
     "name": "stdout",
     "output_type": "stream",
     "text": [
      "Init: initializing centroids\n",
      "Init: initializing clusters\n",
      "Starting iterations...\n",
      "Run 1, iteration: 1/100, moves: 49286, cost: 2219951.0\n",
      "Run 1, iteration: 2/100, moves: 649, cost: 2219950.0\n",
      "Run 1, iteration: 3/100, moves: 0, cost: 2219950.0\n",
      "Init: initializing centroids\n",
      "Init: initializing clusters\n",
      "Starting iterations...\n",
      "Run 2, iteration: 1/100, moves: 81571, cost: 2137781.0\n",
      "Run 2, iteration: 2/100, moves: 38458, cost: 2134501.0\n",
      "Run 2, iteration: 3/100, moves: 572, cost: 2134501.0\n",
      "Init: initializing centroids\n",
      "Init: initializing clusters\n",
      "Starting iterations...\n",
      "Run 3, iteration: 1/100, moves: 69690, cost: 2157806.0\n",
      "Run 3, iteration: 2/100, moves: 8677, cost: 2157806.0\n",
      "Init: initializing centroids\n",
      "Init: initializing clusters\n",
      "Starting iterations...\n",
      "Run 4, iteration: 1/100, moves: 61085, cost: 2226666.0\n",
      "Run 4, iteration: 2/100, moves: 3667, cost: 2226666.0\n",
      "Init: initializing centroids\n",
      "Init: initializing clusters\n",
      "Starting iterations...\n",
      "Run 5, iteration: 1/100, moves: 71742, cost: 2202535.0\n",
      "Run 5, iteration: 2/100, moves: 13605, cost: 2198675.0\n",
      "Run 5, iteration: 3/100, moves: 2678, cost: 2198675.0\n",
      "Best run was number 2\n"
     ]
    }
   ],
   "source": [
    "clusters2011_25 = makeClusters(2011, 25)"
   ]
  },
  {
   "cell_type": "code",
   "execution_count": 69,
   "metadata": {
    "collapsed": true
   },
   "outputs": [],
   "source": [
    "labelsDf(2011, 25, clusters2011_25[0]).to_csv(\"year2011_25clusters.csv\")"
   ]
  },
  {
   "cell_type": "code",
   "execution_count": 70,
   "metadata": {
    "collapsed": true
   },
   "outputs": [],
   "source": [
    "clusters2011_25[1].to_csv(\"year2011_25clusterCentroids.csv\")"
   ]
  },
  {
   "cell_type": "code",
   "execution_count": 71,
   "metadata": {
    "collapsed": false,
    "scrolled": true
   },
   "outputs": [
    {
     "name": "stdout",
     "output_type": "stream",
     "text": [
      "Init: initializing centroids\n",
      "Init: initializing clusters\n",
      "Starting iterations...\n",
      "Run 1, iteration: 1/100, moves: 80963, cost: 2499763.0\n",
      "Run 1, iteration: 2/100, moves: 14076, cost: 2499763.0\n",
      "Init: initializing centroids\n",
      "Init: initializing clusters\n",
      "Starting iterations...\n",
      "Run 2, iteration: 1/100, moves: 102021, cost: 2413103.0\n",
      "Run 2, iteration: 2/100, moves: 4636, cost: 2413103.0\n",
      "Init: initializing centroids\n",
      "Init: initializing clusters\n",
      "Starting iterations...\n",
      "Run 3, iteration: 1/100, moves: 106190, cost: 2398784.0\n",
      "Run 3, iteration: 2/100, moves: 41096, cost: 2398783.0\n",
      "Run 3, iteration: 3/100, moves: 0, cost: 2398783.0\n",
      "Init: initializing centroids\n",
      "Init: initializing clusters\n",
      "Starting iterations...\n",
      "Run 4, iteration: 1/100, moves: 51430, cost: 2441651.0\n",
      "Run 4, iteration: 2/100, moves: 10225, cost: 2441651.0\n",
      "Init: initializing centroids\n",
      "Init: initializing clusters\n",
      "Starting iterations...\n",
      "Run 5, iteration: 1/100, moves: 85730, cost: 2446540.0\n",
      "Run 5, iteration: 2/100, moves: 75, cost: 2446540.0\n",
      "Best run was number 3\n"
     ]
    }
   ],
   "source": [
    "clusters2012_5 = makeClusters(2012, 5)"
   ]
  },
  {
   "cell_type": "code",
   "execution_count": 75,
   "metadata": {
    "collapsed": false
   },
   "outputs": [],
   "source": [
    "labelsDf(2012, 5, clusters2012_5[0]).to_csv(\"year2012_5clusters.csv\")"
   ]
  },
  {
   "cell_type": "code",
   "execution_count": 78,
   "metadata": {
    "collapsed": false
   },
   "outputs": [],
   "source": [
    "clusters2012_5[1].to_csv(\"year2012_5clusterCentroids.csv\")"
   ]
  },
  {
   "cell_type": "code",
   "execution_count": 72,
   "metadata": {
    "collapsed": false,
    "scrolled": true
   },
   "outputs": [
    {
     "name": "stdout",
     "output_type": "stream",
     "text": [
      "Init: initializing centroids\n",
      "Init: initializing clusters\n",
      "Starting iterations...\n",
      "Run 1, iteration: 1/100, moves: 82804, cost: 2230139.0\n",
      "Run 1, iteration: 2/100, moves: 45306, cost: 2228191.0\n",
      "Run 1, iteration: 3/100, moves: 2642, cost: 2228191.0\n",
      "Init: initializing centroids\n",
      "Init: initializing clusters\n",
      "Starting iterations...\n",
      "Run 2, iteration: 1/100, moves: 91943, cost: 2251645.0\n",
      "Run 2, iteration: 2/100, moves: 23351, cost: 2248290.0\n",
      "Run 2, iteration: 3/100, moves: 1290, cost: 2248290.0\n",
      "Init: initializing centroids\n",
      "Init: initializing clusters\n",
      "Starting iterations...\n",
      "Run 3, iteration: 1/100, moves: 77268, cost: 2258198.0\n",
      "Run 3, iteration: 2/100, moves: 17733, cost: 2258198.0\n",
      "Init: initializing centroids\n",
      "Init: initializing clusters\n",
      "Starting iterations...\n",
      "Run 4, iteration: 1/100, moves: 52766, cost: 2248270.0\n",
      "Run 4, iteration: 2/100, moves: 2375, cost: 2248270.0\n",
      "Init: initializing centroids\n",
      "Init: initializing clusters\n",
      "Starting iterations...\n",
      "Run 5, iteration: 1/100, moves: 64983, cost: 2200924.0\n",
      "Run 5, iteration: 2/100, moves: 13229, cost: 2200924.0\n",
      "Best run was number 5\n"
     ]
    }
   ],
   "source": [
    "clusters2012_10 = makeClusters(2012, 10)"
   ]
  },
  {
   "cell_type": "code",
   "execution_count": 80,
   "metadata": {
    "collapsed": false
   },
   "outputs": [],
   "source": [
    "labelsDf(2012, 10, clusters2012_10[0]).to_csv(\"year2012_10clusters.csv\")"
   ]
  },
  {
   "cell_type": "code",
   "execution_count": 83,
   "metadata": {
    "collapsed": false
   },
   "outputs": [],
   "source": [
    "clusters2012_10[1].to_csv(\"year2012_10clusterCentroids.csv\")"
   ]
  },
  {
   "cell_type": "code",
   "execution_count": 73,
   "metadata": {
    "collapsed": false,
    "scrolled": true
   },
   "outputs": [
    {
     "name": "stdout",
     "output_type": "stream",
     "text": [
      "Init: initializing centroids\n",
      "Init: initializing clusters\n",
      "Starting iterations...\n",
      "Run 1, iteration: 1/100, moves: 50568, cost: 2076017.0\n",
      "Run 1, iteration: 2/100, moves: 5711, cost: 2074930.0\n",
      "Run 1, iteration: 3/100, moves: 18, cost: 2074929.0\n",
      "Run 1, iteration: 4/100, moves: 0, cost: 2074929.0\n",
      "Init: initializing centroids\n",
      "Init: initializing clusters\n",
      "Starting iterations...\n",
      "Run 2, iteration: 1/100, moves: 43550, cost: 2063030.0\n",
      "Run 2, iteration: 2/100, moves: 396, cost: 2063030.0\n",
      "Init: initializing centroids\n",
      "Init: initializing clusters\n",
      "Starting iterations...\n",
      "Run 3, iteration: 1/100, moves: 78786, cost: 2068461.0\n",
      "Run 3, iteration: 2/100, moves: 19331, cost: 2053319.0\n",
      "Run 3, iteration: 3/100, moves: 3773, cost: 2053319.0\n",
      "Init: initializing centroids\n",
      "Init: initializing clusters\n",
      "Starting iterations...\n",
      "Run 4, iteration: 1/100, moves: 71540, cost: 2065945.0\n",
      "Run 4, iteration: 2/100, moves: 3617, cost: 2065944.0\n",
      "Run 4, iteration: 3/100, moves: 0, cost: 2065944.0\n",
      "Init: initializing centroids\n",
      "Init: initializing clusters\n",
      "Starting iterations...\n",
      "Run 5, iteration: 1/100, moves: 78908, cost: 2043793.0\n",
      "Run 5, iteration: 2/100, moves: 11737, cost: 2042411.0\n",
      "Run 5, iteration: 3/100, moves: 848, cost: 2042411.0\n",
      "Best run was number 5\n"
     ]
    }
   ],
   "source": [
    "clusters2012_25 = makeClusters(2012, 25)"
   ]
  },
  {
   "cell_type": "code",
   "execution_count": 85,
   "metadata": {
    "collapsed": false
   },
   "outputs": [],
   "source": [
    "labelsDf(2012, 25, clusters2012_25[0]).to_csv(\"year2012_25clusters.csv\")"
   ]
  },
  {
   "cell_type": "code",
   "execution_count": 87,
   "metadata": {
    "collapsed": false
   },
   "outputs": [],
   "source": [
    "clusters2012_25[1].to_csv(\"year2012_25clusterCentroids.csv\")"
   ]
  },
  {
   "cell_type": "code",
   "execution_count": 88,
   "metadata": {
    "collapsed": false,
    "scrolled": true
   },
   "outputs": [
    {
     "name": "stdout",
     "output_type": "stream",
     "text": [
      "Init: initializing centroids\n",
      "Init: initializing clusters\n",
      "Starting iterations...\n",
      "Run 1, iteration: 1/100, moves: 94155, cost: 2247169.0\n",
      "Run 1, iteration: 2/100, moves: 14045, cost: 2247169.0\n",
      "Init: initializing centroids\n",
      "Init: initializing clusters\n",
      "Starting iterations...\n",
      "Run 2, iteration: 1/100, moves: 78058, cost: 2278392.0\n",
      "Run 2, iteration: 2/100, moves: 17121, cost: 2278391.0\n",
      "Run 2, iteration: 3/100, moves: 0, cost: 2278391.0\n",
      "Init: initializing centroids\n",
      "Init: initializing clusters\n",
      "Starting iterations...\n",
      "Run 3, iteration: 1/100, moves: 105337, cost: 2310122.0\n",
      "Run 3, iteration: 2/100, moves: 8607, cost: 2310121.0\n",
      "Run 3, iteration: 3/100, moves: 0, cost: 2310121.0\n",
      "Init: initializing centroids\n",
      "Init: initializing clusters\n",
      "Starting iterations...\n",
      "Run 4, iteration: 1/100, moves: 74404, cost: 2288155.0\n",
      "Run 4, iteration: 2/100, moves: 1786, cost: 2288155.0\n",
      "Init: initializing centroids\n",
      "Init: initializing clusters\n",
      "Starting iterations...\n",
      "Run 5, iteration: 1/100, moves: 108674, cost: 2251641.0\n",
      "Run 5, iteration: 2/100, moves: 28935, cost: 2251640.0\n",
      "Run 5, iteration: 3/100, moves: 0, cost: 2251640.0\n",
      "Best run was number 1\n"
     ]
    }
   ],
   "source": [
    "clusters2013_5 = makeClusters(2013, 5)"
   ]
  },
  {
   "cell_type": "code",
   "execution_count": 92,
   "metadata": {
    "collapsed": false
   },
   "outputs": [],
   "source": [
    "labelsDf(2013, 5, clusters2013_5[0]).to_csv(\"year2013_5clusters.csv\")"
   ]
  },
  {
   "cell_type": "code",
   "execution_count": 93,
   "metadata": {
    "collapsed": true
   },
   "outputs": [],
   "source": [
    "clusters2013_5[1].to_csv(\"year2013_5clusterCentroids.csv\")"
   ]
  },
  {
   "cell_type": "code",
   "execution_count": 89,
   "metadata": {
    "collapsed": false,
    "scrolled": true
   },
   "outputs": [
    {
     "name": "stdout",
     "output_type": "stream",
     "text": [
      "Init: initializing centroids\n",
      "Init: initializing clusters\n",
      "Starting iterations...\n",
      "Run 1, iteration: 1/100, moves: 46457, cost: 2085120.0\n",
      "Run 1, iteration: 2/100, moves: 3903, cost: 2085120.0\n",
      "Init: initializing centroids\n",
      "Init: initializing clusters\n",
      "Starting iterations...\n",
      "Run 2, iteration: 1/100, moves: 66121, cost: 2032127.0\n",
      "Run 2, iteration: 2/100, moves: 7328, cost: 2032127.0\n",
      "Init: initializing centroids\n",
      "Init: initializing clusters\n",
      "Starting iterations...\n",
      "Run 3, iteration: 1/100, moves: 108427, cost: 2048268.0\n",
      "Run 3, iteration: 2/100, moves: 19483, cost: 2041688.0\n",
      "Run 3, iteration: 3/100, moves: 4002, cost: 2041688.0\n",
      "Init: initializing centroids\n",
      "Init: initializing clusters\n",
      "Starting iterations...\n",
      "Run 4, iteration: 1/100, moves: 88089, cost: 2081931.0\n",
      "Run 4, iteration: 2/100, moves: 13982, cost: 2081931.0\n",
      "Init: initializing centroids\n",
      "Init: initializing clusters\n",
      "Starting iterations...\n",
      "Run 5, iteration: 1/100, moves: 74120, cost: 2107507.0\n",
      "Run 5, iteration: 2/100, moves: 0, cost: 2107507.0\n",
      "Best run was number 2\n"
     ]
    }
   ],
   "source": [
    "clusters2013_10 = makeClusters(2013, 10)"
   ]
  },
  {
   "cell_type": "code",
   "execution_count": 95,
   "metadata": {
    "collapsed": false
   },
   "outputs": [],
   "source": [
    "labelsDf(2013, 10, clusters2013_10[0]).to_csv(\"year2013_10clusters.csv\")"
   ]
  },
  {
   "cell_type": "code",
   "execution_count": 97,
   "metadata": {
    "collapsed": false
   },
   "outputs": [],
   "source": [
    "clusters2013_10[1].to_csv(\"year2013_10clusterCentroids.csv\")"
   ]
  },
  {
   "cell_type": "code",
   "execution_count": 90,
   "metadata": {
    "collapsed": false,
    "scrolled": true
   },
   "outputs": [
    {
     "name": "stdout",
     "output_type": "stream",
     "text": [
      "Init: initializing centroids\n",
      "Init: initializing clusters\n",
      "Starting iterations...\n",
      "Run 1, iteration: 1/100, moves: 97145, cost: 1857137.0\n",
      "Run 1, iteration: 2/100, moves: 2324, cost: 1857137.0\n",
      "Init: initializing centroids\n",
      "Init: initializing clusters\n",
      "Starting iterations...\n",
      "Run 2, iteration: 1/100, moves: 53024, cost: 1895188.0\n",
      "Run 2, iteration: 2/100, moves: 21759, cost: 1895187.0\n",
      "Run 2, iteration: 3/100, moves: 0, cost: 1895187.0\n",
      "Init: initializing centroids\n",
      "Init: initializing clusters\n",
      "Starting iterations...\n",
      "Run 3, iteration: 1/100, moves: 78155, cost: 1900820.0\n",
      "Run 3, iteration: 2/100, moves: 5152, cost: 1900817.0\n",
      "Run 3, iteration: 3/100, moves: 0, cost: 1900817.0\n",
      "Init: initializing centroids\n",
      "Init: initializing clusters\n",
      "Starting iterations...\n",
      "Run 4, iteration: 1/100, moves: 58977, cost: 1855906.0\n",
      "Run 4, iteration: 2/100, moves: 5226, cost: 1855904.0\n",
      "Run 4, iteration: 3/100, moves: 0, cost: 1855904.0\n",
      "Init: initializing centroids\n",
      "Init: initializing clusters\n",
      "Starting iterations...\n",
      "Run 5, iteration: 1/100, moves: 52489, cost: 1881811.0\n",
      "Run 5, iteration: 2/100, moves: 191, cost: 1881811.0\n",
      "Best run was number 4\n"
     ]
    }
   ],
   "source": [
    "clusters2013_25 = makeClusters(2013, 25)"
   ]
  },
  {
   "cell_type": "code",
   "execution_count": 99,
   "metadata": {
    "collapsed": false
   },
   "outputs": [],
   "source": [
    "labelsDf(2013, 25, clusters2013_25[0]).to_csv(\"year2013_25clusters.csv\")"
   ]
  },
  {
   "cell_type": "code",
   "execution_count": 101,
   "metadata": {
    "collapsed": false
   },
   "outputs": [],
   "source": [
    "clusters2013_25[1].to_csv(\"year2013_25clusterCentroids.csv\")"
   ]
  },
  {
   "cell_type": "code",
   "execution_count": 102,
   "metadata": {
    "collapsed": false,
    "scrolled": true
   },
   "outputs": [
    {
     "name": "stdout",
     "output_type": "stream",
     "text": [
      "Init: initializing centroids\n",
      "Init: initializing clusters\n",
      "Starting iterations...\n",
      "Run 1, iteration: 1/100, moves: 72851, cost: 1957091.0\n",
      "Run 1, iteration: 2/100, moves: 3611, cost: 1957091.0\n",
      "Init: initializing centroids\n",
      "Init: initializing clusters\n",
      "Starting iterations...\n",
      "Run 2, iteration: 1/100, moves: 48274, cost: 2005036.0\n",
      "Run 2, iteration: 2/100, moves: 24396, cost: 1987203.0\n",
      "Run 2, iteration: 3/100, moves: 3634, cost: 1987203.0\n",
      "Init: initializing centroids\n",
      "Init: initializing clusters\n",
      "Starting iterations...\n",
      "Run 3, iteration: 1/100, moves: 66789, cost: 2027390.0\n",
      "Run 3, iteration: 2/100, moves: 36488, cost: 1971329.0\n",
      "Run 3, iteration: 3/100, moves: 31985, cost: 1969966.0\n",
      "Run 3, iteration: 4/100, moves: 1489, cost: 1969966.0\n",
      "Init: initializing centroids\n",
      "Init: initializing clusters\n",
      "Starting iterations...\n",
      "Run 4, iteration: 1/100, moves: 80237, cost: 2035040.0\n",
      "Run 4, iteration: 2/100, moves: 31369, cost: 2018624.0\n",
      "Run 4, iteration: 3/100, moves: 8709, cost: 2018624.0\n",
      "Init: initializing centroids\n",
      "Init: initializing clusters\n",
      "Starting iterations...\n",
      "Run 5, iteration: 1/100, moves: 92734, cost: 2006085.0\n",
      "Run 5, iteration: 2/100, moves: 3871, cost: 2006085.0\n",
      "Best run was number 1\n"
     ]
    }
   ],
   "source": [
    "clusters2014_5 = makeClusters(2014, 5)"
   ]
  },
  {
   "cell_type": "code",
   "execution_count": 106,
   "metadata": {
    "collapsed": false
   },
   "outputs": [],
   "source": [
    "labelsDf(2014, 5, clusters2014_5[0]).to_csv(\"year2014_5clusters.csv\")"
   ]
  },
  {
   "cell_type": "code",
   "execution_count": 108,
   "metadata": {
    "collapsed": false
   },
   "outputs": [],
   "source": [
    "clusters2014_5[1].to_csv(\"year2014_5clusterCentroids.csv\")"
   ]
  },
  {
   "cell_type": "code",
   "execution_count": 103,
   "metadata": {
    "collapsed": false,
    "scrolled": true
   },
   "outputs": [
    {
     "name": "stdout",
     "output_type": "stream",
     "text": [
      "Init: initializing centroids\n",
      "Init: initializing clusters\n",
      "Starting iterations...\n",
      "Run 1, iteration: 1/100, moves: 66370, cost: 1849305.0\n",
      "Run 1, iteration: 2/100, moves: 1843, cost: 1849305.0\n",
      "Init: initializing centroids\n",
      "Init: initializing clusters\n",
      "Starting iterations...\n",
      "Run 2, iteration: 1/100, moves: 63464, cost: 1847663.0\n",
      "Run 2, iteration: 2/100, moves: 2587, cost: 1847662.0\n",
      "Run 2, iteration: 3/100, moves: 0, cost: 1847662.0\n",
      "Init: initializing centroids\n",
      "Init: initializing clusters\n",
      "Starting iterations...\n",
      "Run 3, iteration: 1/100, moves: 82423, cost: 1867359.0\n",
      "Run 3, iteration: 2/100, moves: 16218, cost: 1867357.0\n",
      "Run 3, iteration: 3/100, moves: 0, cost: 1867357.0\n",
      "Init: initializing centroids\n",
      "Init: initializing clusters\n",
      "Starting iterations...\n",
      "Run 4, iteration: 1/100, moves: 98874, cost: 1807917.0\n",
      "Run 4, iteration: 2/100, moves: 8090, cost: 1807915.0\n",
      "Run 4, iteration: 3/100, moves: 0, cost: 1807915.0\n",
      "Init: initializing centroids\n",
      "Init: initializing clusters\n",
      "Starting iterations...\n",
      "Run 5, iteration: 1/100, moves: 37496, cost: 1869863.0\n",
      "Run 5, iteration: 2/100, moves: 0, cost: 1869863.0\n",
      "Best run was number 4\n"
     ]
    }
   ],
   "source": [
    "clusters2014_10 = makeClusters(2014, 10)"
   ]
  },
  {
   "cell_type": "code",
   "execution_count": 110,
   "metadata": {
    "collapsed": false
   },
   "outputs": [],
   "source": [
    "labelsDf(2014, 10, clusters2014_10[0]).to_csv(\"year2014_10clusters.csv\")"
   ]
  },
  {
   "cell_type": "code",
   "execution_count": 111,
   "metadata": {
    "collapsed": true
   },
   "outputs": [],
   "source": [
    "clusters2014_10[1].to_csv(\"year2014_10clusterCentroids.csv\")"
   ]
  },
  {
   "cell_type": "code",
   "execution_count": 104,
   "metadata": {
    "collapsed": false,
    "scrolled": true
   },
   "outputs": [
    {
     "name": "stdout",
     "output_type": "stream",
     "text": [
      "Init: initializing centroids\n",
      "Init: initializing clusters\n",
      "Starting iterations...\n",
      "Run 1, iteration: 1/100, moves: 52119, cost: 1691853.0\n",
      "Run 1, iteration: 2/100, moves: 18638, cost: 1678158.0\n",
      "Run 1, iteration: 3/100, moves: 11099, cost: 1678158.0\n",
      "Init: initializing centroids\n",
      "Init: initializing clusters\n",
      "Starting iterations...\n",
      "Run 2, iteration: 1/100, moves: 68334, cost: 1688869.0\n",
      "Run 2, iteration: 2/100, moves: 14326, cost: 1688691.0\n",
      "Run 2, iteration: 3/100, moves: 1095, cost: 1688691.0\n",
      "Init: initializing centroids\n",
      "Init: initializing clusters\n",
      "Starting iterations...\n",
      "Run 3, iteration: 1/100, moves: 39651, cost: 1702930.0\n",
      "Run 3, iteration: 2/100, moves: 1182, cost: 1702930.0\n",
      "Init: initializing centroids\n",
      "Init: initializing clusters\n",
      "Starting iterations...\n",
      "Run 4, iteration: 1/100, moves: 68784, cost: 1706721.0\n",
      "Run 4, iteration: 2/100, moves: 6727, cost: 1700620.0\n",
      "Run 4, iteration: 3/100, moves: 303, cost: 1700620.0\n",
      "Init: initializing centroids\n",
      "Init: initializing clusters\n",
      "Starting iterations...\n",
      "Run 5, iteration: 1/100, moves: 45289, cost: 1735399.0\n",
      "Run 5, iteration: 2/100, moves: 7186, cost: 1735398.0\n",
      "Run 5, iteration: 3/100, moves: 0, cost: 1735398.0\n",
      "Best run was number 1\n"
     ]
    }
   ],
   "source": [
    "clusters2014_25 = makeClusters(2014, 25)"
   ]
  },
  {
   "cell_type": "code",
   "execution_count": 114,
   "metadata": {
    "collapsed": false
   },
   "outputs": [],
   "source": [
    "labelsDf(2014, 25, clusters2014_25[0]).to_csv(\"year2014_25clusters.csv\")"
   ]
  },
  {
   "cell_type": "code",
   "execution_count": 115,
   "metadata": {
    "collapsed": true
   },
   "outputs": [],
   "source": [
    "clusters2014_25[1].to_csv(\"year2014_25clusterCentroids.csv\")"
   ]
  },
  {
   "cell_type": "code",
   "execution_count": 116,
   "metadata": {
    "collapsed": false,
    "scrolled": true
   },
   "outputs": [
    {
     "name": "stdout",
     "output_type": "stream",
     "text": [
      "Init: initializing centroids\n",
      "Init: initializing clusters\n",
      "Starting iterations...\n",
      "Run 1, iteration: 1/100, moves: 64130, cost: 1954481.0\n",
      "Run 1, iteration: 2/100, moves: 3479, cost: 1954481.0\n",
      "Init: initializing centroids\n",
      "Init: initializing clusters\n",
      "Starting iterations...\n",
      "Run 2, iteration: 1/100, moves: 48285, cost: 1945410.0\n",
      "Run 2, iteration: 2/100, moves: 19715, cost: 1944088.0\n",
      "Run 2, iteration: 3/100, moves: 1457, cost: 1944088.0\n",
      "Init: initializing centroids\n",
      "Init: initializing clusters\n",
      "Starting iterations...\n",
      "Run 3, iteration: 1/100, moves: 63197, cost: 1891818.0\n",
      "Run 3, iteration: 2/100, moves: 23079, cost: 1889970.0\n",
      "Run 3, iteration: 3/100, moves: 1971, cost: 1889970.0\n",
      "Init: initializing centroids\n",
      "Init: initializing clusters\n",
      "Starting iterations...\n",
      "Run 4, iteration: 1/100, moves: 33262, cost: 1895711.0\n",
      "Run 4, iteration: 2/100, moves: 8777, cost: 1894543.0\n",
      "Run 4, iteration: 3/100, moves: 1298, cost: 1894543.0\n",
      "Init: initializing centroids\n",
      "Init: initializing clusters\n",
      "Starting iterations...\n",
      "Run 5, iteration: 1/100, moves: 76616, cost: 1903815.0\n",
      "Run 5, iteration: 2/100, moves: 24044, cost: 1903815.0\n",
      "Best run was number 3\n"
     ]
    }
   ],
   "source": [
    "clusters2015_5 = makeClusters(2015, 5)"
   ]
  },
  {
   "cell_type": "code",
   "execution_count": 120,
   "metadata": {
    "collapsed": false
   },
   "outputs": [],
   "source": [
    "labelsDf(2015, 5, clusters2015_5[0]).to_csv(\"year2015_5clusters.csv\")"
   ]
  },
  {
   "cell_type": "code",
   "execution_count": 121,
   "metadata": {
    "collapsed": true
   },
   "outputs": [],
   "source": [
    "clusters2015_5[1].to_csv(\"year2015_5clusterCentroids.csv\")"
   ]
  },
  {
   "cell_type": "code",
   "execution_count": 117,
   "metadata": {
    "collapsed": false,
    "scrolled": true
   },
   "outputs": [
    {
     "name": "stdout",
     "output_type": "stream",
     "text": [
      "Init: initializing centroids\n",
      "Init: initializing clusters\n",
      "Starting iterations...\n",
      "Run 1, iteration: 1/100, moves: 54670, cost: 1829253.0\n",
      "Run 1, iteration: 2/100, moves: 764, cost: 1829253.0\n",
      "Init: initializing centroids\n",
      "Init: initializing clusters\n",
      "Starting iterations...\n",
      "Run 2, iteration: 1/100, moves: 81055, cost: 1763264.0\n",
      "Run 2, iteration: 2/100, moves: 5300, cost: 1763264.0\n",
      "Init: initializing centroids\n",
      "Init: initializing clusters\n",
      "Starting iterations...\n",
      "Run 3, iteration: 1/100, moves: 81254, cost: 1749706.0\n",
      "Run 3, iteration: 2/100, moves: 1722, cost: 1749706.0\n",
      "Init: initializing centroids\n",
      "Init: initializing clusters\n",
      "Starting iterations...\n",
      "Run 4, iteration: 1/100, moves: 34825, cost: 1773536.0\n",
      "Run 4, iteration: 2/100, moves: 4325, cost: 1773534.0\n",
      "Run 4, iteration: 3/100, moves: 0, cost: 1773534.0\n",
      "Init: initializing centroids\n",
      "Init: initializing clusters\n",
      "Starting iterations...\n",
      "Run 5, iteration: 1/100, moves: 45533, cost: 1759429.0\n",
      "Run 5, iteration: 2/100, moves: 25897, cost: 1759429.0\n",
      "Best run was number 3\n"
     ]
    }
   ],
   "source": [
    "clusters2015_10 = makeClusters(2015, 10)"
   ]
  },
  {
   "cell_type": "code",
   "execution_count": 123,
   "metadata": {
    "collapsed": false
   },
   "outputs": [],
   "source": [
    "labelsDf(2015, 10, clusters2015_10[0]).to_csv(\"year2015_10clusters.csv\")"
   ]
  },
  {
   "cell_type": "code",
   "execution_count": 126,
   "metadata": {
    "collapsed": false
   },
   "outputs": [],
   "source": [
    "clusters2015_10[1].to_csv(\"year2015_10clusterCentroids.csv\")"
   ]
  },
  {
   "cell_type": "code",
   "execution_count": 118,
   "metadata": {
    "collapsed": false,
    "scrolled": true
   },
   "outputs": [
    {
     "name": "stdout",
     "output_type": "stream",
     "text": [
      "Init: initializing centroids\n",
      "Init: initializing clusters\n",
      "Starting iterations...\n",
      "Run 1, iteration: 1/100, moves: 36605, cost: 1605746.0\n",
      "Run 1, iteration: 2/100, moves: 3064, cost: 1605746.0\n",
      "Init: initializing centroids\n",
      "Init: initializing clusters\n",
      "Starting iterations...\n",
      "Run 2, iteration: 1/100, moves: 60883, cost: 1609663.0\n",
      "Run 2, iteration: 2/100, moves: 6458, cost: 1606365.0\n",
      "Run 2, iteration: 3/100, moves: 2330, cost: 1606365.0\n",
      "Init: initializing centroids\n",
      "Init: initializing clusters\n",
      "Starting iterations...\n",
      "Run 3, iteration: 1/100, moves: 45390, cost: 1646569.0\n",
      "Run 3, iteration: 2/100, moves: 11435, cost: 1646568.0\n",
      "Run 3, iteration: 3/100, moves: 0, cost: 1646568.0\n",
      "Init: initializing centroids\n",
      "Init: initializing clusters\n",
      "Starting iterations...\n",
      "Run 4, iteration: 1/100, moves: 67411, cost: 1618200.0\n",
      "Run 4, iteration: 2/100, moves: 15942, cost: 1618197.0\n",
      "Run 4, iteration: 3/100, moves: 0, cost: 1618197.0\n",
      "Init: initializing centroids\n",
      "Init: initializing clusters\n",
      "Starting iterations...\n",
      "Run 5, iteration: 1/100, moves: 43906, cost: 1641163.0\n",
      "Run 5, iteration: 2/100, moves: 2697, cost: 1641163.0\n",
      "Best run was number 1\n"
     ]
    }
   ],
   "source": [
    "clusters2015_25 = makeClusters(2015, 25)"
   ]
  },
  {
   "cell_type": "code",
   "execution_count": 128,
   "metadata": {
    "collapsed": false
   },
   "outputs": [],
   "source": [
    "labelsDf(2015, 25, clusters2015_25[0]).to_csv(\"year2015_25clusters.csv\")"
   ]
  },
  {
   "cell_type": "code",
   "execution_count": 130,
   "metadata": {
    "collapsed": false
   },
   "outputs": [],
   "source": [
    "clusters2015_25[1].to_csv(\"year2015_25clusterCentroids.csv\")"
   ]
  },
  {
   "cell_type": "code",
   "execution_count": 131,
   "metadata": {
    "collapsed": false,
    "scrolled": true
   },
   "outputs": [
    {
     "name": "stdout",
     "output_type": "stream",
     "text": [
      "Init: initializing centroids\n",
      "Init: initializing clusters\n",
      "Starting iterations...\n",
      "Run 1, iteration: 1/100, moves: 121212, cost: 1958239.0\n",
      "Run 1, iteration: 2/100, moves: 18431, cost: 1938579.0\n",
      "Run 1, iteration: 3/100, moves: 5032, cost: 1938579.0\n",
      "Init: initializing centroids\n",
      "Init: initializing clusters\n",
      "Starting iterations...\n",
      "Run 2, iteration: 1/100, moves: 71801, cost: 1932847.0\n",
      "Run 2, iteration: 2/100, moves: 18656, cost: 1921344.0\n",
      "Run 2, iteration: 3/100, moves: 9302, cost: 1921344.0\n",
      "Init: initializing centroids\n",
      "Init: initializing clusters\n",
      "Starting iterations...\n",
      "Run 3, iteration: 1/100, moves: 110708, cost: 1933009.0\n",
      "Run 3, iteration: 2/100, moves: 633, cost: 1933009.0\n",
      "Init: initializing centroids\n",
      "Init: initializing clusters\n",
      "Starting iterations...\n",
      "Run 4, iteration: 1/100, moves: 33990, cost: 1960315.0\n",
      "Run 4, iteration: 2/100, moves: 3655, cost: 1960315.0\n",
      "Init: initializing centroids\n",
      "Init: initializing clusters\n",
      "Starting iterations...\n",
      "Run 5, iteration: 1/100, moves: 46086, cost: 1954258.0\n",
      "Run 5, iteration: 2/100, moves: 5517, cost: 1954258.0\n",
      "Best run was number 2\n"
     ]
    }
   ],
   "source": [
    "clusters2016_5 = makeClusters(2016, 5)"
   ]
  },
  {
   "cell_type": "code",
   "execution_count": 135,
   "metadata": {
    "collapsed": false
   },
   "outputs": [],
   "source": [
    "labelsDf(2016, 5, clusters2016_5[0]).to_csv(\"year2016_5clusters.csv\")"
   ]
  },
  {
   "cell_type": "code",
   "execution_count": 137,
   "metadata": {
    "collapsed": false
   },
   "outputs": [],
   "source": [
    "clusters2016_5[1].to_csv(\"year2016_5clusterCentroids.csv\")"
   ]
  },
  {
   "cell_type": "code",
   "execution_count": 132,
   "metadata": {
    "collapsed": false,
    "scrolled": true
   },
   "outputs": [
    {
     "name": "stdout",
     "output_type": "stream",
     "text": [
      "Init: initializing centroids\n",
      "Init: initializing clusters\n",
      "Starting iterations...\n",
      "Run 1, iteration: 1/100, moves: 48858, cost: 1784089.0\n",
      "Run 1, iteration: 2/100, moves: 1892, cost: 1784089.0\n",
      "Init: initializing centroids\n",
      "Init: initializing clusters\n",
      "Starting iterations...\n",
      "Run 2, iteration: 1/100, moves: 109384, cost: 1797952.0\n",
      "Run 2, iteration: 2/100, moves: 9221, cost: 1796543.0\n",
      "Run 2, iteration: 3/100, moves: 2026, cost: 1796543.0\n",
      "Init: initializing centroids\n",
      "Init: initializing clusters\n",
      "Starting iterations...\n",
      "Run 3, iteration: 1/100, moves: 57252, cost: 1801610.0\n",
      "Run 3, iteration: 2/100, moves: 9954, cost: 1801609.0\n",
      "Run 3, iteration: 3/100, moves: 0, cost: 1801609.0\n",
      "Init: initializing centroids\n",
      "Init: initializing clusters\n",
      "Starting iterations...\n",
      "Run 4, iteration: 1/100, moves: 15079, cost: 1851245.0\n",
      "Run 4, iteration: 2/100, moves: 0, cost: 1851245.0\n",
      "Init: initializing centroids\n",
      "Init: initializing clusters\n",
      "Starting iterations...\n",
      "Run 5, iteration: 1/100, moves: 30738, cost: 1779661.0\n",
      "Run 5, iteration: 2/100, moves: 2271, cost: 1779661.0\n",
      "Best run was number 5\n"
     ]
    }
   ],
   "source": [
    "clusters2016_10 = makeClusters(2016, 10)"
   ]
  },
  {
   "cell_type": "code",
   "execution_count": 139,
   "metadata": {
    "collapsed": false
   },
   "outputs": [],
   "source": [
    "labelsDf(2016, 10, clusters2016_10[0]).to_csv(\"year2016_10clusters.csv\")"
   ]
  },
  {
   "cell_type": "code",
   "execution_count": 141,
   "metadata": {
    "collapsed": false
   },
   "outputs": [],
   "source": [
    "clusters2016_10[1].to_csv(\"year2016_10clusterCentroids.csv\")"
   ]
  },
  {
   "cell_type": "code",
   "execution_count": 133,
   "metadata": {
    "collapsed": false,
    "scrolled": true
   },
   "outputs": [
    {
     "name": "stdout",
     "output_type": "stream",
     "text": [
      "Init: initializing centroids\n",
      "Init: initializing clusters\n",
      "Starting iterations...\n",
      "Run 1, iteration: 1/100, moves: 42797, cost: 1648838.0\n",
      "Run 1, iteration: 2/100, moves: 6375, cost: 1648838.0\n",
      "Init: initializing centroids\n",
      "Init: initializing clusters\n",
      "Starting iterations...\n",
      "Run 2, iteration: 1/100, moves: 75618, cost: 1623526.0\n",
      "Run 2, iteration: 2/100, moves: 16056, cost: 1613204.0\n",
      "Run 2, iteration: 3/100, moves: 7253, cost: 1604118.0\n",
      "Run 2, iteration: 4/100, moves: 13452, cost: 1604117.0\n",
      "Run 2, iteration: 5/100, moves: 0, cost: 1604117.0\n",
      "Init: initializing centroids\n",
      "Init: initializing clusters\n",
      "Starting iterations...\n",
      "Run 3, iteration: 1/100, moves: 68103, cost: 1640699.0\n",
      "Run 3, iteration: 2/100, moves: 8673, cost: 1640518.0\n",
      "Run 3, iteration: 3/100, moves: 129, cost: 1640518.0\n",
      "Init: initializing centroids\n",
      "Init: initializing clusters\n",
      "Starting iterations...\n",
      "Run 4, iteration: 1/100, moves: 53471, cost: 1631263.0\n",
      "Run 4, iteration: 2/100, moves: 5773, cost: 1631262.0\n",
      "Run 4, iteration: 3/100, moves: 0, cost: 1631262.0\n",
      "Init: initializing centroids\n",
      "Init: initializing clusters\n",
      "Starting iterations...\n",
      "Run 5, iteration: 1/100, moves: 49963, cost: 1680755.0\n",
      "Run 5, iteration: 2/100, moves: 13461, cost: 1680755.0\n",
      "Best run was number 2\n"
     ]
    }
   ],
   "source": [
    "clusters2016_25 = makeClusters(2016, 25)"
   ]
  },
  {
   "cell_type": "code",
   "execution_count": 143,
   "metadata": {
    "collapsed": false
   },
   "outputs": [],
   "source": [
    "labelsDf(2016, 25, clusters2016_25[0]).to_csv(\"year2016_25clusters.csv\")"
   ]
  },
  {
   "cell_type": "code",
   "execution_count": 145,
   "metadata": {
    "collapsed": false
   },
   "outputs": [],
   "source": [
    "clusters2016_25[1].to_csv(\"year2016_25clusterCentroids.csv\")"
   ]
  },
  {
   "cell_type": "code",
   "execution_count": 162,
   "metadata": {
    "collapsed": false
   },
   "outputs": [
    {
     "name": "stderr",
     "output_type": "stream",
     "text": [
      "//anaconda/lib/python3.6/site-packages/ipykernel/__main__.py:1: FutureWarning: sort(columns=....) is deprecated, use sort_values(by=.....)\n",
      "  if __name__ == '__main__':\n"
     ]
    },
    {
     "data": {
      "text/plain": [
       "array([  1.,   2.,   3.,   4.,   5.,   6.,   7.,   8.,   9.,  10.,  11.,\n",
       "        12.,  13.,  14.,  15.,  16.,  17.,  18.,  19.,  20.,  21.,  22.,\n",
       "        23.,  24.,  25.,  31.])"
      ]
     },
     "execution_count": 162,
     "metadata": {},
     "output_type": "execute_result"
    }
   ],
   "source": [
    "finalDf.sort('District', ascending = True)['District'].unique()"
   ]
  },
  {
   "cell_type": "code",
   "execution_count": 151,
   "metadata": {
    "collapsed": false
   },
   "outputs": [],
   "source": [
    "def makeDistrictClusters(district, num):\n",
    "    df = filterDistrict(district)\n",
    "    df = df.reset_index()\n",
    "    if(num == 5):\n",
    "        fitClusters = km_5.fit_predict(df)\n",
    "        clusterCentroidsDf = pd.DataFrame(km_5.cluster_centroids_)\n",
    "    elif(num == 10):\n",
    "        fitClusters = km_10.fit_predict(df)\n",
    "        clusterCentroidsDf = pd.DataFrame(km_10.cluster_centroids_)\n",
    "    else:\n",
    "        fitClusters = km_25.fit_predict(df)\n",
    "        clusterCentroidsDf = pd.DataFrame(km_25.cluster_centroids_)\n",
    "    clusterCentroidsDf.columns = df.columns\n",
    "    return fitClusters, clusterCentroidsDf"
   ]
  },
  {
   "cell_type": "code",
   "execution_count": null,
   "metadata": {
    "collapsed": true
   },
   "outputs": [],
   "source": [
    "def districtLabelsDf(district, num, clustersDf):\n",
    "    df = filterDistrict(district)\n",
    "    df = df.reset_index()\n",
    "    clustersDf = pd.DataFrame(clustersDf)\n",
    "    if(num == 5):\n",
    "        clustersDf.columns = ['clusters_5']\n",
    "    elif(num == 10):\n",
    "        clustersDf.columns = ['clusters_10']\n",
    "    else:\n",
    "        clustersDf.columns = ['clusters_25']\n",
    "    combinedDf = pd.concat([df, clustersDf], axis = 1)\n",
    "    return combinedDf"
   ]
  },
  {
   "cell_type": "code",
   "execution_count": 168,
   "metadata": {
    "collapsed": false,
    "scrolled": true
   },
   "outputs": [
    {
     "name": "stdout",
     "output_type": "stream",
     "text": [
      "Init: initializing centroids\n",
      "Init: initializing clusters\n",
      "Starting iterations...\n",
      "Run 1, iteration: 1/100, moves: 31819, cost: 2088796.0\n",
      "Run 1, iteration: 2/100, moves: 5426, cost: 2088796.0\n",
      "Init: initializing centroids\n",
      "Init: initializing clusters\n",
      "Starting iterations...\n",
      "Run 2, iteration: 1/100, moves: 60827, cost: 2037308.0\n",
      "Run 2, iteration: 2/100, moves: 7636, cost: 2037308.0\n",
      "Init: initializing centroids\n",
      "Init: initializing clusters\n",
      "Starting iterations...\n",
      "Run 3, iteration: 1/100, moves: 58255, cost: 2095224.0\n",
      "Run 3, iteration: 2/100, moves: 1937, cost: 2095224.0\n",
      "Init: initializing centroids\n",
      "Init: initializing clusters\n",
      "Starting iterations...\n",
      "Run 4, iteration: 1/100, moves: 53569, cost: 2046210.0\n",
      "Run 4, iteration: 2/100, moves: 6394, cost: 2044487.0\n",
      "Run 4, iteration: 3/100, moves: 769, cost: 2044487.0\n",
      "Init: initializing centroids\n",
      "Init: initializing clusters\n",
      "Starting iterations...\n",
      "Run 5, iteration: 1/100, moves: 76754, cost: 2032668.0\n",
      "Run 5, iteration: 2/100, moves: 14767, cost: 2032667.0\n",
      "Run 5, iteration: 3/100, moves: 0, cost: 2032667.0\n",
      "Best run was number 5\n"
     ]
    }
   ],
   "source": [
    "clustersDistrict1_5 = makeDistrictClusters(1, 5)"
   ]
  },
  {
   "cell_type": "code",
   "execution_count": 173,
   "metadata": {
    "collapsed": false
   },
   "outputs": [],
   "source": [
    "districtLabelsDf(1, 5, clustersDistrict1_5[0]).to_csv(\"district1_5clusters.csv\")"
   ]
  },
  {
   "cell_type": "code",
   "execution_count": 175,
   "metadata": {
    "collapsed": false
   },
   "outputs": [],
   "source": [
    "clustersDistrict1_5[1].to_csv(\"district1_5clusterCentroids.csv\")"
   ]
  },
  {
   "cell_type": "code",
   "execution_count": 169,
   "metadata": {
    "collapsed": false,
    "scrolled": true
   },
   "outputs": [
    {
     "name": "stdout",
     "output_type": "stream",
     "text": [
      "Init: initializing centroids\n",
      "Init: initializing clusters\n",
      "Starting iterations...\n",
      "Run 1, iteration: 1/100, moves: 80376, cost: 1912845.0\n",
      "Run 1, iteration: 2/100, moves: 17150, cost: 1912845.0\n",
      "Init: initializing centroids\n",
      "Init: initializing clusters\n",
      "Starting iterations...\n",
      "Run 2, iteration: 1/100, moves: 92008, cost: 1962486.0\n",
      "Run 2, iteration: 2/100, moves: 20760, cost: 1955855.0\n",
      "Run 2, iteration: 3/100, moves: 1242, cost: 1955855.0\n",
      "Init: initializing centroids\n",
      "Init: initializing clusters\n",
      "Starting iterations...\n",
      "Run 3, iteration: 1/100, moves: 62513, cost: 1960992.0\n",
      "Run 3, iteration: 2/100, moves: 23222, cost: 1954365.0\n",
      "Run 3, iteration: 3/100, moves: 738, cost: 1954365.0\n",
      "Init: initializing centroids\n",
      "Init: initializing clusters\n",
      "Starting iterations...\n",
      "Run 4, iteration: 1/100, moves: 42822, cost: 1947416.0\n",
      "Run 4, iteration: 2/100, moves: 4817, cost: 1947416.0\n",
      "Init: initializing centroids\n",
      "Init: initializing clusters\n",
      "Starting iterations...\n",
      "Run 5, iteration: 1/100, moves: 36406, cost: 1948526.0\n",
      "Run 5, iteration: 2/100, moves: 0, cost: 1948526.0\n",
      "Best run was number 1\n"
     ]
    }
   ],
   "source": [
    "clustersDistrict1_10 = makeDistrictClusters(1, 10)"
   ]
  },
  {
   "cell_type": "code",
   "execution_count": 177,
   "metadata": {
    "collapsed": false
   },
   "outputs": [],
   "source": [
    "districtLabelsDf(1, 10, clustersDistrict1_10[0]).to_csv(\"district1_10clusters.csv\")"
   ]
  },
  {
   "cell_type": "code",
   "execution_count": 179,
   "metadata": {
    "collapsed": false
   },
   "outputs": [],
   "source": [
    "clustersDistrict1_10[1].to_csv(\"district1_10clusterCentroids.csv\")"
   ]
  },
  {
   "cell_type": "code",
   "execution_count": 170,
   "metadata": {
    "collapsed": false,
    "scrolled": true
   },
   "outputs": [
    {
     "name": "stdout",
     "output_type": "stream",
     "text": [
      "Init: initializing centroids\n",
      "Init: initializing clusters\n",
      "Starting iterations...\n",
      "Run 1, iteration: 1/100, moves: 37698, cost: 1783501.0\n",
      "Run 1, iteration: 2/100, moves: 2752, cost: 1783500.0\n",
      "Run 1, iteration: 3/100, moves: 0, cost: 1783500.0\n",
      "Init: initializing centroids\n",
      "Init: initializing clusters\n",
      "Starting iterations...\n",
      "Run 2, iteration: 1/100, moves: 40212, cost: 1776695.0\n",
      "Run 2, iteration: 2/100, moves: 5135, cost: 1776695.0\n",
      "Init: initializing centroids\n",
      "Init: initializing clusters\n",
      "Starting iterations...\n",
      "Run 3, iteration: 1/100, moves: 58812, cost: 1746239.0\n",
      "Run 3, iteration: 2/100, moves: 9425, cost: 1745910.0\n",
      "Run 3, iteration: 3/100, moves: 1037, cost: 1745910.0\n",
      "Init: initializing centroids\n",
      "Init: initializing clusters\n",
      "Starting iterations...\n",
      "Run 4, iteration: 1/100, moves: 45117, cost: 1755816.0\n",
      "Run 4, iteration: 2/100, moves: 0, cost: 1755816.0\n",
      "Init: initializing centroids\n",
      "Init: initializing clusters\n",
      "Starting iterations...\n",
      "Run 5, iteration: 1/100, moves: 46011, cost: 1734627.0\n",
      "Run 5, iteration: 2/100, moves: 15242, cost: 1734231.0\n",
      "Run 5, iteration: 3/100, moves: 337, cost: 1734231.0\n",
      "Best run was number 5\n"
     ]
    }
   ],
   "source": [
    "clustersDistrict1_25 = makeDistrictClusters(1, 25)"
   ]
  },
  {
   "cell_type": "code",
   "execution_count": 181,
   "metadata": {
    "collapsed": false
   },
   "outputs": [],
   "source": [
    "districtLabelsDf(1, 25, clustersDistrict1_25[0]).to_csv(\"district1_25clusters.csv\")"
   ]
  },
  {
   "cell_type": "code",
   "execution_count": 185,
   "metadata": {
    "collapsed": false
   },
   "outputs": [],
   "source": [
    "clustersDistrict1_25[1].to_csv(\"district1_25clusterCentroids.csv\")"
   ]
  },
  {
   "cell_type": "code",
   "execution_count": 186,
   "metadata": {
    "collapsed": false,
    "scrolled": true
   },
   "outputs": [
    {
     "name": "stdout",
     "output_type": "stream",
     "text": [
      "Init: initializing centroids\n",
      "Init: initializing clusters\n",
      "Starting iterations...\n",
      "Run 1, iteration: 1/100, moves: 84905, cost: 2728444.0\n",
      "Run 1, iteration: 2/100, moves: 8495, cost: 2728444.0\n",
      "Init: initializing centroids\n",
      "Init: initializing clusters\n",
      "Starting iterations...\n",
      "Run 2, iteration: 1/100, moves: 45551, cost: 2741362.0\n",
      "Run 2, iteration: 2/100, moves: 297, cost: 2741361.0\n",
      "Run 2, iteration: 3/100, moves: 0, cost: 2741361.0\n",
      "Init: initializing centroids\n",
      "Init: initializing clusters\n",
      "Starting iterations...\n",
      "Run 3, iteration: 1/100, moves: 101260, cost: 2753050.0\n",
      "Run 3, iteration: 2/100, moves: 46881, cost: 2708369.0\n",
      "Run 3, iteration: 3/100, moves: 18206, cost: 2708369.0\n",
      "Init: initializing centroids\n",
      "Init: initializing clusters\n",
      "Starting iterations...\n",
      "Run 4, iteration: 1/100, moves: 72593, cost: 2783433.0\n",
      "Run 4, iteration: 2/100, moves: 7255, cost: 2783433.0\n",
      "Init: initializing centroids\n",
      "Init: initializing clusters\n",
      "Starting iterations...\n",
      "Run 5, iteration: 1/100, moves: 118940, cost: 2780781.0\n",
      "Run 5, iteration: 2/100, moves: 26436, cost: 2780781.0\n",
      "Best run was number 3\n"
     ]
    }
   ],
   "source": [
    "clustersDistrict2_5 = makeDistrictClusters(2, 5)"
   ]
  },
  {
   "cell_type": "code",
   "execution_count": 190,
   "metadata": {
    "collapsed": false
   },
   "outputs": [],
   "source": [
    "districtLabelsDf(2, 5, clustersDistrict2_5[0]).to_csv(\"district2_5clusters.csv\")"
   ]
  },
  {
   "cell_type": "code",
   "execution_count": 192,
   "metadata": {
    "collapsed": false
   },
   "outputs": [],
   "source": [
    "clustersDistrict2_5[1].to_csv(\"district2_5clusterCentroids.csv\")"
   ]
  },
  {
   "cell_type": "code",
   "execution_count": 187,
   "metadata": {
    "collapsed": false
   },
   "outputs": [
    {
     "name": "stdout",
     "output_type": "stream",
     "text": [
      "Init: initializing centroids\n",
      "Init: initializing clusters\n",
      "Starting iterations...\n",
      "Run 1, iteration: 1/100, moves: 90174, cost: 2529667.0\n",
      "Run 1, iteration: 2/100, moves: 56021, cost: 2526815.0\n",
      "Run 1, iteration: 3/100, moves: 2391, cost: 2526815.0\n",
      "Init: initializing centroids\n",
      "Init: initializing clusters\n",
      "Starting iterations...\n",
      "Run 2, iteration: 1/100, moves: 63324, cost: 2609128.0\n",
      "Run 2, iteration: 2/100, moves: 383, cost: 2609127.0\n",
      "Run 2, iteration: 3/100, moves: 0, cost: 2609127.0\n",
      "Init: initializing centroids\n",
      "Init: initializing clusters\n",
      "Starting iterations...\n",
      "Run 3, iteration: 1/100, moves: 101202, cost: 2515872.0\n",
      "Run 3, iteration: 2/100, moves: 21469, cost: 2515872.0\n",
      "Init: initializing centroids\n",
      "Init: initializing clusters\n",
      "Starting iterations...\n",
      "Run 4, iteration: 1/100, moves: 92750, cost: 2613746.0\n",
      "Run 4, iteration: 2/100, moves: 10481, cost: 2613746.0\n",
      "Init: initializing centroids\n",
      "Init: initializing clusters\n",
      "Starting iterations...\n",
      "Run 5, iteration: 1/100, moves: 106880, cost: 2592137.0\n",
      "Run 5, iteration: 2/100, moves: 27783, cost: 2588035.0\n",
      "Run 5, iteration: 3/100, moves: 5514, cost: 2588035.0\n",
      "Best run was number 3\n"
     ]
    }
   ],
   "source": [
    "clustersDistrict2_10 = makeDistrictClusters(2, 10)"
   ]
  },
  {
   "cell_type": "code",
   "execution_count": 194,
   "metadata": {
    "collapsed": false
   },
   "outputs": [],
   "source": [
    "districtLabelsDf(2, 10, clustersDistrict2_10[0]).to_csv(\"district2_10clusters.csv\")"
   ]
  },
  {
   "cell_type": "code",
   "execution_count": 196,
   "metadata": {
    "collapsed": false
   },
   "outputs": [],
   "source": [
    "clustersDistrict2_10[1].to_csv(\"district2_10clusterCentroids.csv\")"
   ]
  },
  {
   "cell_type": "code",
   "execution_count": 188,
   "metadata": {
    "collapsed": false
   },
   "outputs": [
    {
     "name": "stdout",
     "output_type": "stream",
     "text": [
      "Init: initializing centroids\n",
      "Init: initializing clusters\n",
      "Starting iterations...\n",
      "Run 1, iteration: 1/100, moves: 92456, cost: 2372267.0\n",
      "Run 1, iteration: 2/100, moves: 2433, cost: 2372267.0\n",
      "Init: initializing centroids\n",
      "Init: initializing clusters\n",
      "Starting iterations...\n",
      "Run 2, iteration: 1/100, moves: 93802, cost: 2309785.0\n",
      "Run 2, iteration: 2/100, moves: 10968, cost: 2309785.0\n",
      "Init: initializing centroids\n",
      "Init: initializing clusters\n",
      "Starting iterations...\n",
      "Run 3, iteration: 1/100, moves: 93917, cost: 2301115.0\n",
      "Run 3, iteration: 2/100, moves: 38709, cost: 2291136.0\n",
      "Run 3, iteration: 3/100, moves: 6659, cost: 2291136.0\n",
      "Init: initializing centroids\n",
      "Init: initializing clusters\n",
      "Starting iterations...\n",
      "Run 4, iteration: 1/100, moves: 58407, cost: 2366532.0\n",
      "Run 4, iteration: 2/100, moves: 23109, cost: 2363203.0\n",
      "Run 4, iteration: 3/100, moves: 4720, cost: 2363203.0\n",
      "Init: initializing centroids\n",
      "Init: initializing clusters\n",
      "Starting iterations...\n",
      "Run 5, iteration: 1/100, moves: 86683, cost: 2289289.0\n",
      "Run 5, iteration: 2/100, moves: 16632, cost: 2287554.0\n",
      "Run 5, iteration: 3/100, moves: 1196, cost: 2287554.0\n",
      "Best run was number 5\n"
     ]
    }
   ],
   "source": [
    "clustersDistrict2_25 = makeDistrictClusters(2, 25)"
   ]
  },
  {
   "cell_type": "code",
   "execution_count": 198,
   "metadata": {
    "collapsed": false
   },
   "outputs": [],
   "source": [
    "districtLabelsDf(2, 25, clustersDistrict2_25[0]).to_csv(\"district2_25clusters.csv\")"
   ]
  },
  {
   "cell_type": "code",
   "execution_count": 200,
   "metadata": {
    "collapsed": false
   },
   "outputs": [],
   "source": [
    "clustersDistrict2_25[1].to_csv(\"district2_25clusterCentroids.csv\")"
   ]
  },
  {
   "cell_type": "code",
   "execution_count": 201,
   "metadata": {
    "collapsed": false
   },
   "outputs": [
    {
     "name": "stdout",
     "output_type": "stream",
     "text": [
      "Init: initializing centroids\n",
      "Init: initializing clusters\n",
      "Starting iterations...\n",
      "Run 1, iteration: 1/100, moves: 168848, cost: 2933489.0\n",
      "Run 1, iteration: 2/100, moves: 49247, cost: 2884010.0\n",
      "Run 1, iteration: 3/100, moves: 2315, cost: 2884010.0\n",
      "Init: initializing centroids\n",
      "Init: initializing clusters\n",
      "Starting iterations...\n",
      "Run 2, iteration: 1/100, moves: 48430, cost: 2948137.0\n",
      "Run 2, iteration: 2/100, moves: 461, cost: 2948137.0\n",
      "Init: initializing centroids\n",
      "Init: initializing clusters\n",
      "Starting iterations...\n",
      "Run 3, iteration: 1/100, moves: 47154, cost: 3028172.0\n",
      "Run 3, iteration: 2/100, moves: 0, cost: 3028172.0\n",
      "Init: initializing centroids\n",
      "Init: initializing clusters\n",
      "Starting iterations...\n",
      "Run 4, iteration: 1/100, moves: 126253, cost: 2868656.0\n",
      "Run 4, iteration: 2/100, moves: 35946, cost: 2868655.0\n",
      "Run 4, iteration: 3/100, moves: 0, cost: 2868655.0\n",
      "Init: initializing centroids\n",
      "Init: initializing clusters\n",
      "Starting iterations...\n",
      "Run 5, iteration: 1/100, moves: 60628, cost: 2978969.0\n",
      "Run 5, iteration: 2/100, moves: 0, cost: 2978969.0\n",
      "Best run was number 4\n"
     ]
    }
   ],
   "source": [
    "clustersDistrict3_5 = makeDistrictClusters(3, 5)"
   ]
  },
  {
   "cell_type": "code",
   "execution_count": 202,
   "metadata": {
    "collapsed": false
   },
   "outputs": [
    {
     "name": "stdout",
     "output_type": "stream",
     "text": [
      "Init: initializing centroids\n",
      "Init: initializing clusters\n",
      "Starting iterations...\n",
      "Run 1, iteration: 1/100, moves: 60719, cost: 2708094.0\n",
      "Run 1, iteration: 2/100, moves: 11788, cost: 2706029.0\n",
      "Run 1, iteration: 3/100, moves: 1692, cost: 2706029.0\n",
      "Init: initializing centroids\n",
      "Init: initializing clusters\n",
      "Starting iterations...\n",
      "Run 2, iteration: 1/100, moves: 96360, cost: 2721420.0\n",
      "Run 2, iteration: 2/100, moves: 35443, cost: 2721420.0\n",
      "Init: initializing centroids\n",
      "Init: initializing clusters\n",
      "Starting iterations...\n",
      "Run 3, iteration: 1/100, moves: 100674, cost: 2787823.0\n",
      "Run 3, iteration: 2/100, moves: 8493, cost: 2779148.0\n",
      "Run 3, iteration: 3/100, moves: 14859, cost: 2768215.0\n",
      "Run 3, iteration: 4/100, moves: 3148, cost: 2768214.0\n",
      "Run 3, iteration: 5/100, moves: 0, cost: 2768214.0\n",
      "Init: initializing centroids\n",
      "Init: initializing clusters\n",
      "Starting iterations...\n",
      "Run 4, iteration: 1/100, moves: 142016, cost: 2694184.0\n",
      "Run 4, iteration: 2/100, moves: 17162, cost: 2694182.0\n",
      "Run 4, iteration: 3/100, moves: 0, cost: 2694182.0\n",
      "Init: initializing centroids\n",
      "Init: initializing clusters\n",
      "Starting iterations...\n",
      "Run 5, iteration: 1/100, moves: 148683, cost: 2679579.0\n",
      "Run 5, iteration: 2/100, moves: 34369, cost: 2679578.0\n",
      "Run 5, iteration: 3/100, moves: 0, cost: 2679578.0\n",
      "Best run was number 5\n"
     ]
    }
   ],
   "source": [
    "clustersDistrict3_10 = makeDistrictClusters(3, 10)"
   ]
  },
  {
   "cell_type": "code",
   "execution_count": 203,
   "metadata": {
    "collapsed": false
   },
   "outputs": [
    {
     "name": "stdout",
     "output_type": "stream",
     "text": [
      "Init: initializing centroids\n",
      "Init: initializing clusters\n",
      "Starting iterations...\n",
      "Run 1, iteration: 1/100, moves: 91178, cost: 2444348.0\n",
      "Run 1, iteration: 2/100, moves: 23561, cost: 2440159.0\n",
      "Run 1, iteration: 3/100, moves: 3188, cost: 2440158.0\n",
      "Run 1, iteration: 4/100, moves: 0, cost: 2440158.0\n",
      "Init: initializing centroids\n",
      "Init: initializing clusters\n",
      "Starting iterations...\n",
      "Run 2, iteration: 1/100, moves: 122314, cost: 2471796.0\n",
      "Run 2, iteration: 2/100, moves: 3537, cost: 2471795.0\n",
      "Run 2, iteration: 3/100, moves: 0, cost: 2471795.0\n",
      "Init: initializing centroids\n",
      "Init: initializing clusters\n",
      "Starting iterations...\n",
      "Run 3, iteration: 1/100, moves: 108838, cost: 2409769.0\n",
      "Run 3, iteration: 2/100, moves: 29216, cost: 2408559.0\n",
      "Run 3, iteration: 3/100, moves: 559, cost: 2408557.0\n",
      "Run 3, iteration: 4/100, moves: 0, cost: 2408557.0\n",
      "Init: initializing centroids\n",
      "Init: initializing clusters\n",
      "Starting iterations...\n",
      "Run 4, iteration: 1/100, moves: 71852, cost: 2447931.0\n",
      "Run 4, iteration: 2/100, moves: 10137, cost: 2447302.0\n",
      "Run 4, iteration: 3/100, moves: 463, cost: 2447302.0\n",
      "Init: initializing centroids\n",
      "Init: initializing clusters\n",
      "Starting iterations...\n",
      "Run 5, iteration: 1/100, moves: 42861, cost: 2489938.0\n",
      "Run 5, iteration: 2/100, moves: 0, cost: 2489938.0\n",
      "Best run was number 3\n"
     ]
    }
   ],
   "source": [
    "clustersDistrict3_25 = makeDistrictClusters(3, 25)"
   ]
  },
  {
   "cell_type": "code",
   "execution_count": null,
   "metadata": {
    "collapsed": true
   },
   "outputs": [],
   "source": []
  }
 ],
 "metadata": {
  "kernelspec": {
   "display_name": "Python 3",
   "language": "python",
   "name": "python3"
  },
  "language_info": {
   "codemirror_mode": {
    "name": "ipython",
    "version": 3
   },
   "file_extension": ".py",
   "mimetype": "text/x-python",
   "name": "python",
   "nbconvert_exporter": "python",
   "pygments_lexer": "ipython3",
   "version": "3.6.0"
  }
 },
 "nbformat": 4,
 "nbformat_minor": 2
}
