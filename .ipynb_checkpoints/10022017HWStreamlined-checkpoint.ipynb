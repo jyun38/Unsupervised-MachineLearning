{
 "cells": [
  {
   "cell_type": "markdown",
   "metadata": {},
   "source": [
    "http://pmbaumgartner.github.io/tsne-to-bokeh-scatterplot.html"
   ]
  },
  {
   "cell_type": "code",
   "execution_count": 5,
   "metadata": {
    "collapsed": false
   },
   "outputs": [],
   "source": [
    "import matplotlib.pyplot as plt\n",
    "from sklearn.manifold import TSNE \n",
    "import pandas as pd \n",
    "import numpy as np \n",
    "from bokeh.io import push_notebook\n",
    "from bokeh.plotting import figure, ColumnDataSource, output_notebook, output_file, show, save \n",
    "from bokeh.models import HoverTool, WheelZoomTool, PanTool, BoxZoomTool, ResetTool, TapTool, SaveTool\n",
    "from bokeh.palettes import brewer\n",
    " "
   ]
  },
  {
   "cell_type": "code",
   "execution_count": 6,
   "metadata": {
    "collapsed": true
   },
   "outputs": [],
   "source": [
    "originalDf = pd.read_csv('realData.csv')"
   ]
  },
  {
   "cell_type": "code",
   "execution_count": 7,
   "metadata": {
    "collapsed": true
   },
   "outputs": [],
   "source": [
    "'''Function that deletes specific columns\n",
    "'''\n",
    "def deleteColumns(dataFrame, listOfColumns):\n",
    "    newDataFrame = dataFrame[dataFrame.columns.difference(listOfColumns)]\n",
    "    return newDataFrame"
   ]
  },
  {
   "cell_type": "code",
   "execution_count": 8,
   "metadata": {
    "collapsed": true
   },
   "outputs": [],
   "source": [
    "'''Function that joins two pandas dataframes\n",
    "'''\n",
    "def joinColumns ( df1, df2):\n",
    "    newDataFrame = pd.concat([df1, df2], axis=1)\n",
    "    return newDataFrame"
   ]
  },
  {
   "cell_type": "code",
   "execution_count": 9,
   "metadata": {
    "collapsed": false
   },
   "outputs": [],
   "source": [
    "#originalDf['Channel'].astype('category').cat.categories.tolist()"
   ]
  },
  {
   "cell_type": "code",
   "execution_count": 10,
   "metadata": {
    "collapsed": true
   },
   "outputs": [],
   "source": [
    " def multiplyColumns(df1, df2, name, diffColumn):\n",
    "    copydf2 = df2\n",
    "    copydf2.loc[copydf2[diffColumn] == 2] = 5 \n",
    "    newDf = pd.DataFrame(df1.values*df2.values, columns = [name], index = df1.index)\n",
    "    newDf.loc[newDf[name] == 5 ] = 4\n",
    "    newDf.loc[newDf[name] == 10 ] = 5\n",
    "    newDf.loc[newDf[name] == 15 ] = 6\n",
    "    \n",
    "    return newDf"
   ]
  },
  {
   "cell_type": "code",
   "execution_count": 11,
   "metadata": {
    "collapsed": true
   },
   "outputs": [],
   "source": [
    "def sumColumns(df, listofColumns, name):\n",
    "    newDf = df[listofColumns].sum(axis=1)\n",
    "    newDf = pd.DataFrame({name: newDf})\n",
    "    return newDf"
   ]
  },
  {
   "cell_type": "code",
   "execution_count": 12,
   "metadata": {
    "collapsed": true
   },
   "outputs": [],
   "source": [
    "'''Function that fitTransforms a TSNE \n",
    "and returns the fitTransformed modeled.\n",
    "User can specify learning rate and dataframe \n",
    "'''\n",
    "def fitTSNE(learningRate, df): \n",
    "    model = TSNE(learning_rate = learningRate, perplexity = 40)\n",
    "    transformed = model.fit_transform(df)\n",
    "    return transformed"
   ]
  },
  {
   "cell_type": "code",
   "execution_count": 13,
   "metadata": {
    "collapsed": true
   },
   "outputs": [],
   "source": [
    "'''Function that plots a TSNE\n",
    "and demonstrates the modeled plot\n",
    "User can specified the transformed df\n",
    "and the list of labels\n",
    "'''\n",
    "def plotTSNE(transformed, colorLabels):\n",
    "    xs = transformed[:,0]\n",
    "    ys = transformed[:, 1]\n",
    "    plt.scatter(xs, ys, c = colorLabels)\n",
    "    plt.show()"
   ]
  },
  {
   "cell_type": "code",
   "execution_count": 14,
   "metadata": {
    "collapsed": true
   },
   "outputs": [],
   "source": [
    "from bokeh.io import export_png"
   ]
  },
  {
   "cell_type": "code",
   "execution_count": 18,
   "metadata": {
    "collapsed": false
   },
   "outputs": [],
   "source": [
    "def bokehTSNE(transformed, data, graphTitle, categoryName):\n",
    "   \n",
    "    tsne_df = pd.DataFrame(transformed, columns=['Component 1', 'Component2'], index =data.index)\n",
    "    data_all = pd.concat([data, tsne_df], axis=1)\n",
    "    category = categoryName\n",
    "    \n",
    "    #set color by given category nam e\n",
    "    category_items = data_all[category].unique()\n",
    "    palette = brewer['Set3'][len(category_items) + 1]\n",
    "    colormap = dict(zip(category_items, palette))\n",
    "    data_all['color'] = data_all[category].map(colormap)\n",
    "    title = graphTitle\n",
    "\n",
    "    #the transformed data\n",
    "    source = ColumnDataSource(data_all)\n",
    "\n",
    "\n",
    "    hover = HoverTool(tooltips=[(column, '@' + column) for column in reversed(data.columns)])\n",
    "\n",
    "    tools = [hover, WheelZoomTool(), PanTool(), BoxZoomTool(), ResetTool(), TapTool(), SaveTool()]\n",
    "\n",
    "    p = figure(\n",
    "        tools=tools,\n",
    "        title=title,\n",
    "        plot_width=800,\n",
    "        plot_height=800,\n",
    "        toolbar_location='below',\n",
    "        toolbar_sticky=False, )\n",
    "\n",
    "    p.circle(\n",
    "        x= 'Component 1',\n",
    "        y= 'Component2',\n",
    "        source=source,\n",
    "        size=10,\n",
    "        line_color='#333333',\n",
    "        line_width=0.5,\n",
    "        fill_alpha=0.8,\n",
    "        color='color',\n",
    "        legend=category)\n",
    "    \n",
    "    #show(p)\n",
    "    #to use export as png must install the following:\n",
    "    #pip3 install selenium | pip3 install pillow | conda install phantomjs\n",
    "    export_png(p, filename= graphTitle+\".png\")"
   ]
  },
  {
   "cell_type": "code",
   "execution_count": 11,
   "metadata": {
    "collapsed": true
   },
   "outputs": [],
   "source": [
    "#channelRegion = multiplyColumns(originalDf['Channel'].to_frame(), originalDf['Region'].to_frame(), \"channelRegion\", \"Region\")"
   ]
  },
  {
   "cell_type": "code",
   "execution_count": 12,
   "metadata": {
    "collapsed": false
   },
   "outputs": [],
   "source": [
    "#newDf = joinColumns(originalDf, channelRegion)"
   ]
  },
  {
   "cell_type": "code",
   "execution_count": 13,
   "metadata": {
    "collapsed": false
   },
   "outputs": [],
   "source": [
    "#df = deleteColumns(newDf, ['Channel', 'Region'])"
   ]
  },
  {
   "cell_type": "code",
   "execution_count": 14,
   "metadata": {
    "collapsed": false
   },
   "outputs": [],
   "source": [
    "#total = sumColumns(originalDf, originalDf.columns, 'TotalAS')"
   ]
  },
  {
   "cell_type": "code",
   "execution_count": 15,
   "metadata": {
    "collapsed": true
   },
   "outputs": [],
   "source": [
    "#df = joinColumns(originalDf, total)"
   ]
  },
  {
   "cell_type": "code",
   "execution_count": 16,
   "metadata": {
    "collapsed": false
   },
   "outputs": [],
   "source": [
    "df = originalDf"
   ]
  },
  {
   "cell_type": "code",
   "execution_count": 17,
   "metadata": {
    "collapsed": true
   },
   "outputs": [],
   "source": [
    "#df = deleteColumns(originalDf,['Region', 'Fresh', 'Frozen', 'Grocery', 'Milk'])"
   ]
  },
  {
   "cell_type": "code",
   "execution_count": null,
   "metadata": {
    "collapsed": false
   },
   "outputs": [],
   "source": []
  },
  {
   "cell_type": "code",
   "execution_count": 21,
   "metadata": {
    "collapsed": false
   },
   "outputs": [],
   "source": [
    " for x in range(50,500, 50): \n",
    "    transformed =fitTSNE(x, df)\n",
    "    bokehTSNE(transformed, df, 'Plot #' + str(x), 'Channel')\n",
    " "
   ]
  },
  {
   "cell_type": "markdown",
   "metadata": {},
   "source": [
    "Index(['Channel', 'Region', 'Fresh', 'Milk', 'Grocery', 'Frozen',\n",
    "       'Detergents_Paper', 'Delicassen'],\n",
    "      dtype='object')\n",
    "      "
   ]
  },
  {
   "cell_type": "code",
   "execution_count": null,
   "metadata": {
    "collapsed": true
   },
   "outputs": [],
   "source": []
  }
 ],
 "metadata": {
  "kernelspec": {
   "display_name": "Python 3",
   "language": "python",
   "name": "python3"
  },
  "language_info": {
   "codemirror_mode": {
    "name": "ipython",
    "version": 3
   },
   "file_extension": ".py",
   "mimetype": "text/x-python",
   "name": "python",
   "nbconvert_exporter": "python",
   "pygments_lexer": "ipython3",
   "version": "3.5.1"
  }
 },
 "nbformat": 4,
 "nbformat_minor": 0
}
