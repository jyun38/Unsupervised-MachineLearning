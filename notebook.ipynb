{
  "cells": [
    {
      "metadata": {
        "_uuid": "19a426c36e898243892e94b5dfc9f52a5d376edd",
        "_cell_guid": "f84b1b4d-961e-41eb-8419-43f2769fdfad",
        "trusted": true
      },
      "cell_type": "code",
      "source": "# This Python 3 environment comes with many helpful analytics libraries installed\n# It is defined by the kaggle/python docker image: https://github.com/kaggle/docker-python\n# For example, here's several helpful packages to load in \n#hello\nimport numpy as np # linear algebra\nimport pandas as pd # data processing, CSV file I/O (e.g. pd.read_csv)\n\n# Input data files are available in the \"../input/\" directory.\n# For example, running this (by clicking run or pressing Shift+Enter) will list the files in the input directory\n\nfrom subprocess import check_output\nprint(check_output([\"ls\", \"../input\"]).decode(\"utf8\"))\n\n# Any results you write to the current directory are saved as output.",
      "execution_count": 1,
      "outputs": [
        {
          "output_type": "stream",
          "text": "Chicago_Crimes_2001_to_2004.csv\nChicago_Crimes_2005_to_2007.csv\nChicago_Crimes_2008_to_2011.csv\nChicago_Crimes_2012_to_2017.csv\n\n",
          "name": "stdout"
        }
      ]
    },
    {
      "metadata": {
        "_uuid": "0d0c903dc11a848986a4dbcbfa98d642cd03313e",
        "_cell_guid": "89696eff-ade3-4b08-9c98-ae92d4bfec78",
        "trusted": true
      },
      "cell_type": "code",
      "source": "df1 = pd.read_csv(\"../input/Chicago_Crimes_2001_to_2004.csv\", error_bad_lines = False)",
      "execution_count": 2,
      "outputs": [
        {
          "output_type": "stream",
          "text": "b'Skipping line 1513591: expected 23 fields, saw 24\\n'\n/opt/conda/lib/python3.6/site-packages/IPython/core/interactiveshell.py:2717: DtypeWarning: Columns (17,20) have mixed types. Specify dtype option on import or set low_memory=False.\n  interactivity=interactivity, compiler=compiler, result=result)\n",
          "name": "stderr"
        }
      ]
    },
    {
      "metadata": {
        "_uuid": "e75f1cdd2b34b168fdaebea4e0d446ae7208a0d9",
        "_cell_guid": "ab7bcfbc-bb69-41dd-a3f4-9476fca49ad9",
        "trusted": false,
        "collapsed": true
      },
      "cell_type": "code",
      "source": "df1.describe().cou",
      "execution_count": null,
      "outputs": []
    },
    {
      "metadata": {
        "_uuid": "26daee07fe80818158b8f4902f0f4df426ca3727",
        "_cell_guid": "3dfeb54c-7414-4154-a7ad-8538fc11b83a",
        "trusted": true
      },
      "cell_type": "code",
      "source": "df1.head() ",
      "execution_count": 3,
      "outputs": [
        {
          "output_type": "execute_result",
          "execution_count": 3,
          "data": {
            "text/plain": "   Unnamed: 0       ID Case Number                    Date  \\\n0         879  4786321    HM399414  01/01/2004 12:01:00 AM   \n1        2544  4676906    HM278933  03/01/2003 12:00:00 AM   \n2        2919  4789749    HM402220  06/20/2004 11:00:00 AM   \n3        2927  4789765    HM402058  12/30/2004 08:00:00 PM   \n4        3302  4677901    HM275615  05/01/2003 01:00:00 AM   \n\n                 Block  IUCR                Primary Type  \\\n0    082XX S COLES AVE  0840                       THEFT   \n1      004XX W 42ND PL  2825               OTHER OFFENSE   \n2  025XX N KIMBALL AVE  1752  OFFENSE INVOLVING CHILDREN   \n3   045XX W MONTANA ST  0840                       THEFT   \n4   111XX S NORMAL AVE  0841                       THEFT   \n\n                      Description Location Description  Arrest  \\\n0   FINANCIAL ID THEFT: OVER $300            RESIDENCE   False   \n1         HARASSMENT BY TELEPHONE            RESIDENCE   False   \n2   AGG CRIM SEX ABUSE FAM MEMBER            RESIDENCE   False   \n3   FINANCIAL ID THEFT: OVER $300                OTHER   False   \n4  FINANCIAL ID THEFT:$300 &UNDER            RESIDENCE   False   \n\n               ...                Ward  Community Area  FBI Code  \\\n0              ...                 7.0            46.0        06   \n1              ...                11.0            61.0        26   \n2              ...                35.0            22.0        20   \n3              ...                31.0            20.0        06   \n4              ...                34.0            49.0        06   \n\n   X Coordinate  Y Coordinate    Year              Updated On Latitude  \\\n0           NaN           NaN  2004.0  08/17/2015 03:03:40 PM      NaN   \n1     1173974.0   1.87676e+06  2003.0  04/15/2016 08:55:02 AM  41.8172   \n2           NaN           NaN  2004.0  08/17/2015 03:03:40 PM      NaN   \n3           NaN           NaN  2004.0  08/17/2015 03:03:40 PM      NaN   \n4     1174948.0   1.83105e+06  2003.0  04/15/2016 08:55:02 AM  41.6918   \n\n   Longitude                       Location  \n0        NaN                            NaN  \n1 -87.637328  (41.817229156, -87.637328162)  \n2        NaN                            NaN  \n3        NaN                            NaN  \n4 -87.635116  (41.691784636, -87.635115968)  \n\n[5 rows x 23 columns]",
            "text/html": "<div>\n<style>\n    .dataframe thead tr:only-child th {\n        text-align: right;\n    }\n\n    .dataframe thead th {\n        text-align: left;\n    }\n\n    .dataframe tbody tr th {\n        vertical-align: top;\n    }\n</style>\n<table border=\"1\" class=\"dataframe\">\n  <thead>\n    <tr style=\"text-align: right;\">\n      <th></th>\n      <th>Unnamed: 0</th>\n      <th>ID</th>\n      <th>Case Number</th>\n      <th>Date</th>\n      <th>Block</th>\n      <th>IUCR</th>\n      <th>Primary Type</th>\n      <th>Description</th>\n      <th>Location Description</th>\n      <th>Arrest</th>\n      <th>...</th>\n      <th>Ward</th>\n      <th>Community Area</th>\n      <th>FBI Code</th>\n      <th>X Coordinate</th>\n      <th>Y Coordinate</th>\n      <th>Year</th>\n      <th>Updated On</th>\n      <th>Latitude</th>\n      <th>Longitude</th>\n      <th>Location</th>\n    </tr>\n  </thead>\n  <tbody>\n    <tr>\n      <th>0</th>\n      <td>879</td>\n      <td>4786321</td>\n      <td>HM399414</td>\n      <td>01/01/2004 12:01:00 AM</td>\n      <td>082XX S COLES AVE</td>\n      <td>0840</td>\n      <td>THEFT</td>\n      <td>FINANCIAL ID THEFT: OVER $300</td>\n      <td>RESIDENCE</td>\n      <td>False</td>\n      <td>...</td>\n      <td>7.0</td>\n      <td>46.0</td>\n      <td>06</td>\n      <td>NaN</td>\n      <td>NaN</td>\n      <td>2004.0</td>\n      <td>08/17/2015 03:03:40 PM</td>\n      <td>NaN</td>\n      <td>NaN</td>\n      <td>NaN</td>\n    </tr>\n    <tr>\n      <th>1</th>\n      <td>2544</td>\n      <td>4676906</td>\n      <td>HM278933</td>\n      <td>03/01/2003 12:00:00 AM</td>\n      <td>004XX W 42ND PL</td>\n      <td>2825</td>\n      <td>OTHER OFFENSE</td>\n      <td>HARASSMENT BY TELEPHONE</td>\n      <td>RESIDENCE</td>\n      <td>False</td>\n      <td>...</td>\n      <td>11.0</td>\n      <td>61.0</td>\n      <td>26</td>\n      <td>1173974.0</td>\n      <td>1.87676e+06</td>\n      <td>2003.0</td>\n      <td>04/15/2016 08:55:02 AM</td>\n      <td>41.8172</td>\n      <td>-87.637328</td>\n      <td>(41.817229156, -87.637328162)</td>\n    </tr>\n    <tr>\n      <th>2</th>\n      <td>2919</td>\n      <td>4789749</td>\n      <td>HM402220</td>\n      <td>06/20/2004 11:00:00 AM</td>\n      <td>025XX N KIMBALL AVE</td>\n      <td>1752</td>\n      <td>OFFENSE INVOLVING CHILDREN</td>\n      <td>AGG CRIM SEX ABUSE FAM MEMBER</td>\n      <td>RESIDENCE</td>\n      <td>False</td>\n      <td>...</td>\n      <td>35.0</td>\n      <td>22.0</td>\n      <td>20</td>\n      <td>NaN</td>\n      <td>NaN</td>\n      <td>2004.0</td>\n      <td>08/17/2015 03:03:40 PM</td>\n      <td>NaN</td>\n      <td>NaN</td>\n      <td>NaN</td>\n    </tr>\n    <tr>\n      <th>3</th>\n      <td>2927</td>\n      <td>4789765</td>\n      <td>HM402058</td>\n      <td>12/30/2004 08:00:00 PM</td>\n      <td>045XX W MONTANA ST</td>\n      <td>0840</td>\n      <td>THEFT</td>\n      <td>FINANCIAL ID THEFT: OVER $300</td>\n      <td>OTHER</td>\n      <td>False</td>\n      <td>...</td>\n      <td>31.0</td>\n      <td>20.0</td>\n      <td>06</td>\n      <td>NaN</td>\n      <td>NaN</td>\n      <td>2004.0</td>\n      <td>08/17/2015 03:03:40 PM</td>\n      <td>NaN</td>\n      <td>NaN</td>\n      <td>NaN</td>\n    </tr>\n    <tr>\n      <th>4</th>\n      <td>3302</td>\n      <td>4677901</td>\n      <td>HM275615</td>\n      <td>05/01/2003 01:00:00 AM</td>\n      <td>111XX S NORMAL AVE</td>\n      <td>0841</td>\n      <td>THEFT</td>\n      <td>FINANCIAL ID THEFT:$300 &amp;UNDER</td>\n      <td>RESIDENCE</td>\n      <td>False</td>\n      <td>...</td>\n      <td>34.0</td>\n      <td>49.0</td>\n      <td>06</td>\n      <td>1174948.0</td>\n      <td>1.83105e+06</td>\n      <td>2003.0</td>\n      <td>04/15/2016 08:55:02 AM</td>\n      <td>41.6918</td>\n      <td>-87.635116</td>\n      <td>(41.691784636, -87.635115968)</td>\n    </tr>\n  </tbody>\n</table>\n<p>5 rows × 23 columns</p>\n</div>"
          },
          "metadata": {}
        }
      ]
    },
    {
      "metadata": {
        "_uuid": "05694028b9e131c827608dbf79b9a27489ca4ef5",
        "_cell_guid": "c32f2cf9-ac23-42ca-95d5-50d5bd6f525a",
        "trusted": true
      },
      "cell_type": "code",
      "source": "for column in df1.columns:\n    print(\"Column name: \" + column )\n    numNas = df1[column].isnull().sum()\n    numObservations = len(df1[column])\n    missingDataPercentage = numNas/numObservations *100\n    print(missingDataPercentage)",
      "execution_count": 14,
      "outputs": [
        {
          "output_type": "stream",
          "text": "Column name: Unnamed: 0\n0.0\nColumn name: ID\n0.0\nColumn name: Case Number\n0.0\nColumn name: Date\n0.0\nColumn name: Block\n0.0\nColumn name: IUCR\n0.0\nColumn name: Primary Type\n0.0\nColumn name: Description\n0.0\nColumn name: Location Description\n0.000831810513565\nColumn name: Arrest\n0.0\nColumn name: Domestic\n0.0\nColumn name: Beat\n0.0\nColumn name: District\n0.000103976314196\nColumn name: Ward\n36.3985724052\nColumn name: Community Area\n36.4045510433\nColumn name: FBI Code\n0.0\nColumn name: X Coordinate\n1.59556852949\nColumn name: Y Coordinate\n1.59556852949\nColumn name: Year\n0.0\nColumn name: Updated On\n0.0\nColumn name: Latitude\n1.59556852949\nColumn name: Longitude\n1.59562051765\nColumn name: Location\n1.59562051765\n",
          "name": "stdout"
        }
      ]
    },
    {
      "metadata": {
        "collapsed": true,
        "_cell_guid": "f746108f-a699-4297-9f23-3253653a491d",
        "_uuid": "fe0a08247a3b05829f371160e24d5933433c854c",
        "trusted": false
      },
      "cell_type": "code",
      "source": "",
      "execution_count": null,
      "outputs": []
    }
  ],
  "metadata": {
    "kernelspec": {
      "display_name": "Python 3",
      "language": "python",
      "name": "python3"
    },
    "language_info": {
      "name": "python",
      "version": "3.6.3",
      "mimetype": "text/x-python",
      "codemirror_mode": {
        "name": "ipython",
        "version": 3
      },
      "pygments_lexer": "ipython3",
      "nbconvert_exporter": "python",
      "file_extension": ".py"
    }
  },
  "nbformat": 4,
  "nbformat_minor": 1
}